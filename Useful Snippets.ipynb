{
 "cells": [
  {
   "cell_type": "markdown",
   "id": "4f67c6b3-3132-402a-b59b-3d9f17e05eab",
   "metadata": {},
   "source": [
    "# Useful snippets from other notebooks"
   ]
  },
  {
   "cell_type": "markdown",
   "id": "61aeb11d-73ba-49a2-8878-7dc8e92499d3",
   "metadata": {},
   "source": [
    "## Printing enhancement"
   ]
  },
  {
   "cell_type": "code",
   "execution_count": 4,
   "id": "363bfcba-bfb6-4dd5-abcd-9890d7c45274",
   "metadata": {},
   "outputs": [
    {
     "name": "stdout",
     "output_type": "stream",
     "text": [
      "['spam', 'eggs', 'lumberjack', 'knights', 'ni']\n",
      "['spam', 'eggs',\n",
      " 'lumberjack',\n",
      " 'knights', 'ni']\n"
     ]
    }
   ],
   "source": [
    "import pprint\n",
    "results = ['spam', 'eggs', 'lumberjack', 'knights', 'ni']\n",
    "print(results)\n",
    "pprint.pprint(results, width=20, compact=True)\n",
    "# See docs at https://docs.python.org/3/library/pprint.html"
   ]
  },
  {
   "cell_type": "markdown",
   "id": "fa657861-9e19-4db4-b716-55f19690f25c",
   "metadata": {},
   "source": [
    "## Restart kernel after install of packages"
   ]
  },
  {
   "cell_type": "code",
   "execution_count": 5,
   "id": "b592dce0-9b6b-47fc-8fd2-cb91c54ece12",
   "metadata": {},
   "outputs": [
    {
     "data": {
      "text/html": [
       "<script>Jupyter.notebook.kernel.restart()</script>"
      ]
     },
     "metadata": {},
     "output_type": "display_data"
    }
   ],
   "source": [
    "from IPython.display import display_html\n",
    "def restartkernel() :\n",
    "    display_html(\"<script>Jupyter.notebook.kernel.restart()</script>\",raw=True)\n",
    "restartkernel()"
   ]
  },
  {
   "cell_type": "markdown",
   "id": "0a1bb6e9-57a2-4990-a0b4-8b02896e44b2",
   "metadata": {},
   "source": [
    "## Setting OpenAI API key if not present in environment variable"
   ]
  },
  {
   "cell_type": "code",
   "execution_count": 9,
   "id": "194de3ef-9f1d-49ad-8235-6948b39e12d1",
   "metadata": {},
   "outputs": [],
   "source": [
    "!pip install -q -U openai"
   ]
  },
  {
   "cell_type": "code",
   "execution_count": 12,
   "id": "cf6fb354-e933-40be-a755-7e68b3b41eab",
   "metadata": {},
   "outputs": [
    {
     "name": "stdin",
     "output_type": "stream",
     "text": [
      "OpenAI API Key: ········\n"
     ]
    }
   ],
   "source": [
    "import openai\n",
    "import os\n",
    "import getpass\n",
    "\n",
    "# Configuring the environment variable OPENAI_API_KEY\n",
    "if \"OPENAI_API_KEY\" not in os.environ:\n",
    "    # OR set the key here as a variable\n",
    "    openai.api_key = getpass.getpass(\"OpenAI API Key:\")\n",
    "    \n",
    "assert len(openai.Model.list()[\"data\"]) > 0 #Will generate an error if the key is not valid"
   ]
  },
  {
   "cell_type": "markdown",
   "id": "0f7c1b95-c6c8-45c6-bed3-459638c54937",
   "metadata": {},
   "source": [
    "## Testing if you have a CUDA device setup with pytorch"
   ]
  },
  {
   "cell_type": "code",
   "execution_count": 16,
   "id": "8684695a-10aa-4cf1-addd-649a811d4bd5",
   "metadata": {},
   "outputs": [],
   "source": [
    "import torch"
   ]
  },
  {
   "cell_type": "code",
   "execution_count": 17,
   "id": "5ed08394-d6f4-4a33-859f-2f31e7c6ee24",
   "metadata": {},
   "outputs": [
    {
     "name": "stdout",
     "output_type": "stream",
     "text": [
      "Using cuda device\n"
     ]
    }
   ],
   "source": [
    "# Alternative from pytorch docs that allows for Mac GPU training as well\n",
    "# Get cpu, gpu or mps device for training.\n",
    "device = (\n",
    "    \"cuda\"\n",
    "    if torch.cuda.is_available()\n",
    "    else \"mps\"\n",
    "    if torch.backends.mps.is_available()\n",
    "    else \"cpu\"\n",
    ")\n",
    "print(f\"Using {device} device\")\n"
   ]
  },
  {
   "cell_type": "markdown",
   "id": "46cc42a4-84a3-4518-a574-28e72ee8dcd7",
   "metadata": {},
   "source": [
    "## To have some 'useful' raw data for RAG stuff, I extracted my own bookmarks"
   ]
  },
  {
   "cell_type": "code",
   "execution_count": 19,
   "id": "4a508d65-c82b-44e7-b835-d0bde7815bde",
   "metadata": {},
   "outputs": [],
   "source": [
    "import json\n",
    "import os\n",
    "\n",
    "def extract_chrome_bookmarks():\n",
    "    # Define the path to the Chrome bookmarks file\n",
    "    # This is the default location on Windows. You may need to adjust this for other operating systems. Also may need to change the user to match yours\n",
    "    path_to_bookmarks = \"/mnt/c/Users/nissa/AppData/Local/Google/Chrome/User Data/Default/Bookmarks\"\n",
    "\n",
    "    # Ensure the file exists\n",
    "    if not os.path.exists(path_to_bookmarks):\n",
    "        print(\"The bookmarks file was not found at the specified location. Ensure Chrome is installed and you have bookmarks saved.\")\n",
    "        return []\n",
    "\n",
    "    # Load the JSON data\n",
    "    with open(path_to_bookmarks, 'r', encoding='utf-8') as file:\n",
    "        bookmarks_data = json.load(file)\n",
    "\n",
    "    # Define a recursive function to extract bookmarks\n",
    "    def extract_from_node(node):\n",
    "        if 'url' in node:\n",
    "            return [(node['name'], node['url'])]\n",
    "        else:\n",
    "            urls = []\n",
    "            if 'children' in node:\n",
    "                for child in node['children']:\n",
    "                    urls.extend(extract_from_node(child))\n",
    "            return urls\n",
    "\n",
    "    # Extract the bookmarks\n",
    "    bookmarks = extract_from_node(bookmarks_data['roots']['bookmark_bar']) \n",
    "    bookmarks += extract_from_node(bookmarks_data['roots']['other'])  # Other bookmarks\n",
    "\n",
    "    return bookmarks\n",
    "\n",
    "bookmarks_list = extract_chrome_bookmarks()\n",
    "# Run below if you want to be sure your bookmarks are imported as you expect\n",
    "# for title, url in bookmarks_list:\n",
    "    # print(f\"{title}: {url}\")"
   ]
  },
  {
   "cell_type": "markdown",
   "id": "0ec0d4e6-1eaa-478a-b72d-8f65d9d79a49",
   "metadata": {},
   "source": [
    "## Importing data from Kaggle"
   ]
  },
  {
   "cell_type": "markdown",
   "id": "3dd090f1-fa75-47e7-8507-5943049b6742",
   "metadata": {},
   "source": [
    "> Using [Jeremy Howard's notebook](https://www.kaggle.com/code/jhoward/getting-started-with-nlp-for-absolute-beginners/) as a learning sample starting point for my modified settings"
   ]
  },
  {
   "cell_type": "code",
   "execution_count": 1,
   "id": "affa2bc8-2f50-475f-9ea9-26780fb03f25",
   "metadata": {},
   "outputs": [],
   "source": [
    "!pip install kaggle -q"
   ]
  },
  {
   "cell_type": "code",
   "execution_count": 2,
   "id": "fd30e7ac-89cd-484e-aadd-3f1c4c4a12d9",
   "metadata": {},
   "outputs": [],
   "source": [
    "# for working with paths in Python, Jeremy Howard recommends using `pathlib.Path`\n",
    "from pathlib import Path\n",
    "\n",
    "cred_path = Path('~/.kaggle/kaggle.json').expanduser() #If you don't have the kaggle.json read about this at https://www.kaggle.com/docs/api"
   ]
  },
  {
   "cell_type": "code",
   "execution_count": 3,
   "id": "66d406c6-1d80-4d7f-b270-ac70ae98772e",
   "metadata": {},
   "outputs": [],
   "source": [
    "competition_name='us-patent-phrase-to-phrase-matching' #change to match competition name"
   ]
  },
  {
   "cell_type": "code",
   "execution_count": 4,
   "id": "2aa9ddba-6494-4fcc-863a-6826e59e2f67",
   "metadata": {},
   "outputs": [],
   "source": [
    "path = Path(f'data/{competition_name}') "
   ]
  },
  {
   "cell_type": "code",
   "execution_count": 5,
   "id": "8fcdce31-24bc-4e6f-8b5f-cfc5be620134",
   "metadata": {},
   "outputs": [],
   "source": [
    "import subprocess\n",
    "import os\n",
    "\n",
    "def download_competition_data(competition_name):\n",
    "    # Create 'data' folder if it doesn't exist\n",
    "    if not os.path.exists('data'):\n",
    "        os.makedirs('data')\n",
    "\n",
    "    # Run the Kaggle CLI command to download the competition data into 'data' folder\n",
    "    cmd = f\"kaggle competitions download -c {competition_name} -p data\"\n",
    "    subprocess.run(cmd, shell=True)"
   ]
  },
  {
   "cell_type": "code",
   "execution_count": 6,
   "id": "2ffe2716-fcec-4f79-aeab-1d3eaf2d66bf",
   "metadata": {},
   "outputs": [],
   "source": [
    "import os\n",
    "iskaggle = os.environ.get('KAGGLE_KERNEL_RUN_TYPE', '') # This is to check if this notebook is running on Kaggle"
   ]
  },
  {
   "cell_type": "code",
   "execution_count": 7,
   "id": "eda56b46-461c-427f-a4e4-c85f36889c57",
   "metadata": {},
   "outputs": [],
   "source": [
    "# Note if an error, make sure to visit the competition page and accept the rules so you can download the data\n",
    "if not iskaggle and not path.exists():\n",
    "    import zipfile,kaggle\n",
    "    # Replace 'your-competition-name-here' with the desired competition's name\n",
    "    download_competition_data(competition_name)\n",
    "    zipfile.ZipFile(f'{path}.zip').extractall(path)"
   ]
  },
  {
   "cell_type": "code",
   "execution_count": 8,
   "id": "23c4518f-95ac-4e13-bd4f-c77bb1abf1d2",
   "metadata": {},
   "outputs": [
    {
     "name": "stdout",
     "output_type": "stream",
     "text": [
      "sample_submission.csv  test.csv  train.csv\n"
     ]
    }
   ],
   "source": [
    "!ls {path}"
   ]
  },
  {
   "cell_type": "code",
   "execution_count": null,
   "id": "2ef1448d-2d90-4231-84cf-311d85283166",
   "metadata": {},
   "outputs": [],
   "source": []
  }
 ],
 "metadata": {
  "kernelspec": {
   "display_name": "Python 3 (ipykernel)",
   "language": "python",
   "name": "python3"
  },
  "language_info": {
   "codemirror_mode": {
    "name": "ipython",
    "version": 3
   },
   "file_extension": ".py",
   "mimetype": "text/x-python",
   "name": "python",
   "nbconvert_exporter": "python",
   "pygments_lexer": "ipython3",
   "version": "3.10.12"
  }
 },
 "nbformat": 4,
 "nbformat_minor": 5
}
