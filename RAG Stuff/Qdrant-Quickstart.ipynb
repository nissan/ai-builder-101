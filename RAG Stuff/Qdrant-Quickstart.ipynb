{
 "cells": [
  {
   "cell_type": "markdown",
   "id": "d6ddcf0a-cc6c-40d3-9788-d594219237c2",
   "metadata": {},
   "source": [
    "# Qdrant Quickstart from [docs](https://qdrant.tech/documentation/quick-start/) "
   ]
  },
  {
   "cell_type": "markdown",
   "id": "023a4d30-0e4e-4d8d-838e-f40fc61ae440",
   "metadata": {},
   "source": [
    "> Run from terminal"
   ]
  },
  {
   "cell_type": "code",
   "execution_count": null,
   "id": "cbb81fa3-425a-4989-b142-d902f1453c83",
   "metadata": {},
   "outputs": [],
   "source": [
    "#docker pull qdrant/qdrant"
   ]
  },
  {
   "cell_type": "code",
   "execution_count": 1,
   "id": "4f8c59ee-aaa3-4b68-9efa-aabace84d5ed",
   "metadata": {},
   "outputs": [],
   "source": [
    "#docker run -p 6333:6333 --name qdrant -v $(pwd)/qdrant_storage:/qdrant/storage qdrant/qdrant"
   ]
  },
  {
   "cell_type": "code",
   "execution_count": 2,
   "id": "b6400c6a-64e5-4261-b13b-7166bd0d07fb",
   "metadata": {},
   "outputs": [
    {
     "name": "stdout",
     "output_type": "stream",
     "text": [
      "           _                 _    \n",
      "  __ _  __| |_ __ __ _ _ __ | |_  \n",
      " / _` |/ _` | '__/ _` | '_ \\| __| \n",
      "| (_| | (_| | | | (_| | | | | |_  \n",
      " \\__, |\\__,_|_|  \\__,_|_| |_|\\__| \n",
      "    |_|                           \n",
      "\n",
      "Access web UI at http://localhost:6333/dashboard\n",
      "\n",
      "[2023-08-18T11:50:05.496Z INFO  storage::content_manager::consensus::persistent] Loading raft state from ./storage/raft_state.json\n",
      "[2023-08-18T11:50:05.548Z INFO  storage::content_manager::toc] Loading collection: first collection\n",
      "[2023-08-18T11:50:05.843Z INFO  qdrant] Distributed mode disabled\n",
      "[2023-08-18T11:50:05.843Z INFO  qdrant] Telemetry reporting enabled, id: d4768c48-411b-4786-aafe-a34153bb3f8a\n",
      "[2023-08-18T11:50:05.843Z INFO  qdrant::tonic] Qdrant gRPC listening on 6334\n",
      "[2023-08-18T11:50:05.843Z INFO  qdrant::tonic] TLS disabled for gRPC API\n",
      "[2023-08-18T11:50:05.844Z INFO  qdrant::actix] TLS disabled for REST API\n",
      "[2023-08-18T11:50:05.844Z INFO  qdrant::actix] Qdrant HTTP listening on 6333\n",
      "[2023-08-18T11:50:05.844Z INFO  actix_server::builder] Starting 15 workers\n",
      "[2023-08-18T11:50:05.844Z INFO  actix_server::server] Actix runtime found; starting in Actix runtime\n"
     ]
    }
   ],
   "source": [
    "!docker logs qdrant --tail 20"
   ]
  },
  {
   "cell_type": "code",
   "execution_count": 3,
   "id": "be343aa0-81d3-455e-b0c3-870641c4e3f2",
   "metadata": {},
   "outputs": [
    {
     "name": "stdout",
     "output_type": "stream",
     "text": [
      "Requirement already satisfied: qdrant-client in /home/nissan/mambaforge/lib/python3.10/site-packages (1.4.0)\n",
      "Requirement already satisfied: grpcio>=1.41.0 in /home/nissan/mambaforge/lib/python3.10/site-packages (from qdrant-client) (1.57.0)\n",
      "Requirement already satisfied: grpcio-tools>=1.41.0 in /home/nissan/mambaforge/lib/python3.10/site-packages (from qdrant-client) (1.57.0)\n",
      "Requirement already satisfied: httpx[http2]>=0.14.0 in /home/nissan/mambaforge/lib/python3.10/site-packages (from qdrant-client) (0.24.1)\n",
      "Requirement already satisfied: numpy>=1.21 in /home/nissan/mambaforge/lib/python3.10/site-packages (from qdrant-client) (1.25.2)\n",
      "Requirement already satisfied: portalocker<3.0.0,>=2.7.0 in /home/nissan/mambaforge/lib/python3.10/site-packages (from qdrant-client) (2.7.0)\n",
      "Requirement already satisfied: pydantic>=1.10.8 in /home/nissan/mambaforge/lib/python3.10/site-packages (from qdrant-client) (1.10.12)\n",
      "Requirement already satisfied: urllib3<2.0.0,>=1.26.14 in /home/nissan/mambaforge/lib/python3.10/site-packages (from qdrant-client) (1.26.16)\n",
      "Requirement already satisfied: protobuf<5.0dev,>=4.21.6 in /home/nissan/mambaforge/lib/python3.10/site-packages (from grpcio-tools>=1.41.0->qdrant-client) (4.24.0)\n",
      "Requirement already satisfied: setuptools in /home/nissan/mambaforge/lib/python3.10/site-packages (from grpcio-tools>=1.41.0->qdrant-client) (68.0.0)\n",
      "Requirement already satisfied: certifi in /home/nissan/mambaforge/lib/python3.10/site-packages (from httpx[http2]>=0.14.0->qdrant-client) (2023.7.22)\n",
      "Requirement already satisfied: httpcore<0.18.0,>=0.15.0 in /home/nissan/mambaforge/lib/python3.10/site-packages (from httpx[http2]>=0.14.0->qdrant-client) (0.17.3)\n",
      "Requirement already satisfied: idna in /home/nissan/mambaforge/lib/python3.10/site-packages (from httpx[http2]>=0.14.0->qdrant-client) (3.4)\n",
      "Requirement already satisfied: sniffio in /home/nissan/mambaforge/lib/python3.10/site-packages (from httpx[http2]>=0.14.0->qdrant-client) (1.3.0)\n",
      "Requirement already satisfied: h2<5,>=3 in /home/nissan/mambaforge/lib/python3.10/site-packages (from httpx[http2]>=0.14.0->qdrant-client) (4.1.0)\n",
      "Requirement already satisfied: typing-extensions>=4.2.0 in /home/nissan/mambaforge/lib/python3.10/site-packages (from pydantic>=1.10.8->qdrant-client) (4.7.1)\n",
      "Requirement already satisfied: hyperframe<7,>=6.0 in /home/nissan/mambaforge/lib/python3.10/site-packages (from h2<5,>=3->httpx[http2]>=0.14.0->qdrant-client) (6.0.1)\n",
      "Requirement already satisfied: hpack<5,>=4.0 in /home/nissan/mambaforge/lib/python3.10/site-packages (from h2<5,>=3->httpx[http2]>=0.14.0->qdrant-client) (4.0.0)\n",
      "Requirement already satisfied: h11<0.15,>=0.13 in /home/nissan/mambaforge/lib/python3.10/site-packages (from httpcore<0.18.0,>=0.15.0->httpx[http2]>=0.14.0->qdrant-client) (0.14.0)\n",
      "Requirement already satisfied: anyio<5.0,>=3.0 in /home/nissan/mambaforge/lib/python3.10/site-packages (from httpcore<0.18.0,>=0.15.0->httpx[http2]>=0.14.0->qdrant-client) (3.7.1)\n",
      "Requirement already satisfied: exceptiongroup in /home/nissan/mambaforge/lib/python3.10/site-packages (from anyio<5.0,>=3.0->httpcore<0.18.0,>=0.15.0->httpx[http2]>=0.14.0->qdrant-client) (1.1.2)\n",
      "Note: you may need to restart the kernel to use updated packages.\n"
     ]
    }
   ],
   "source": [
    "pip install qdrant-client"
   ]
  },
  {
   "cell_type": "code",
   "execution_count": 4,
   "id": "91ffd670-97ad-45ef-89f6-c5884ad02629",
   "metadata": {},
   "outputs": [
    {
     "data": {
      "text/plain": [
       "<qdrant_client.qdrant_client.QdrantClient at 0x7f07ee241990>"
      ]
     },
     "execution_count": 4,
     "metadata": {},
     "output_type": "execute_result"
    }
   ],
   "source": [
    "from qdrant_client import QdrantClient\n",
    "client = QdrantClient(host=\"localhost\", port=6333)\n",
    "client"
   ]
  },
  {
   "cell_type": "markdown",
   "id": "8cf06fe4-7990-4e76-b140-3b090ce7b9d8",
   "metadata": {},
   "source": [
    "## Create collection"
   ]
  },
  {
   "cell_type": "code",
   "execution_count": 5,
   "id": "4768ce86-2e7a-4c0a-bafa-6b89a35b536f",
   "metadata": {},
   "outputs": [
    {
     "data": {
      "text/plain": [
       "True"
      ]
     },
     "execution_count": 5,
     "metadata": {},
     "output_type": "execute_result"
    }
   ],
   "source": [
    "from qdrant_client import QdrantClient\n",
    "from qdrant_client.http.models import Distance, VectorParams\n",
    "\n",
    "client = QdrantClient(\"localhost\", port=6333)\n",
    "client.recreate_collection(\n",
    "    collection_name=\"test_collection\",\n",
    "    vectors_config=VectorParams(size=4, distance=Distance.DOT),\n",
    ")"
   ]
  },
  {
   "cell_type": "code",
   "execution_count": 6,
   "id": "350b829b-e80b-4ffa-929d-9c6c66425731",
   "metadata": {},
   "outputs": [],
   "source": [
    "collection_info = client.get_collection(collection_name=\"test_collection\")"
   ]
  },
  {
   "cell_type": "code",
   "execution_count": 7,
   "id": "cd2fda7d-52c0-4879-ae0a-5c1146b04fe4",
   "metadata": {},
   "outputs": [],
   "source": [
    "from qdrant_client.http.models import CollectionStatus\n",
    "\n",
    "assert collection_info.status == CollectionStatus.GREEN\n",
    "assert collection_info.vectors_count == 0"
   ]
  },
  {
   "cell_type": "markdown",
   "id": "fdc830ad-33a8-4344-8802-eb7634a281fd",
   "metadata": {},
   "source": [
    "## Add points"
   ]
  },
  {
   "cell_type": "code",
   "execution_count": 8,
   "id": "5b94b669-d33b-49bc-9059-f8316e5798ce",
   "metadata": {},
   "outputs": [],
   "source": [
    "from qdrant_client.http.models import PointStruct\n",
    "\n",
    "operation_info = client.upsert(\n",
    "    collection_name=\"test_collection\",\n",
    "    wait=True,\n",
    "    points=[\n",
    "        PointStruct(id=1, vector=[0.05, 0.61, 0.76, 0.74], payload={\"city\": \"Berlin\"}),\n",
    "        PointStruct(id=2, vector=[0.19, 0.81, 0.75, 0.11], payload={\"city\": [\"Berlin\", \"London\"]}),\n",
    "        PointStruct(id=3, vector=[0.36, 0.55, 0.47, 0.94], payload={\"city\": [\"Berlin\", \"Moscow\"]}),\n",
    "        PointStruct(id=4, vector=[0.18, 0.01, 0.85, 0.80], payload={\"city\": [\"London\", \"Moscow\"]}),\n",
    "        PointStruct(id=5, vector=[0.24, 0.18, 0.22, 0.44], payload={\"count\": [0]}),\n",
    "        PointStruct(id=6, vector=[0.35, 0.08, 0.11, 0.44]),\n",
    "    ]\n",
    ")"
   ]
  },
  {
   "cell_type": "code",
   "execution_count": 9,
   "id": "9d850696-7620-4229-a053-228d50eecda2",
   "metadata": {},
   "outputs": [],
   "source": [
    "from qdrant_client.http.models import UpdateStatus\n",
    "\n",
    "assert operation_info.status == UpdateStatus.COMPLETED"
   ]
  },
  {
   "cell_type": "markdown",
   "id": "fad7bc2f-2a21-42cc-8821-e521dd01d20a",
   "metadata": {},
   "source": [
    "## Search with filtering"
   ]
  },
  {
   "cell_type": "code",
   "execution_count": 10,
   "id": "29086f5b-ad39-44f2-94ff-681920ec8dbd",
   "metadata": {},
   "outputs": [],
   "source": [
    "search_result = client.search(\n",
    "    collection_name=\"test_collection\",\n",
    "    query_vector=[0.2, 0.1, 0.9, 0.7], \n",
    "    limit=3\n",
    ")"
   ]
  },
  {
   "cell_type": "code",
   "execution_count": 11,
   "id": "f3dcc79a-6bd1-4705-b8f0-5a58db6967c5",
   "metadata": {},
   "outputs": [
    {
     "name": "stdout",
     "output_type": "stream",
     "text": [
      "id=4 version=0 score=1.362 payload={'city': ['London', 'Moscow']} vector=None\n",
      "id=1 version=0 score=1.273 payload={'city': 'Berlin'} vector=None\n",
      "id=3 version=0 score=1.208 payload={'city': ['Berlin', 'Moscow']} vector=None\n"
     ]
    }
   ],
   "source": [
    "assert len(search_result) == 3\n",
    "\n",
    "print(search_result[0])\n",
    "# ScoredPoint(id=4, score=1.362, ...)\n",
    "\n",
    "print(search_result[1])\n",
    "# ScoredPoint(id=1, score=1.273, ...)\n",
    "\n",
    "print(search_result[2])\n",
    "# ScoredPoint(id=3, score=1.208, ...)"
   ]
  },
  {
   "cell_type": "markdown",
   "id": "b5117751-28d3-43f7-b93e-3e4a72029829",
   "metadata": {},
   "source": [
    "> Show different search result when filter added"
   ]
  },
  {
   "cell_type": "code",
   "execution_count": 12,
   "id": "319adf2d-37e7-4416-b3c3-a2e8eac9f5d4",
   "metadata": {},
   "outputs": [],
   "source": [
    "from qdrant_client.http.models import Filter, FieldCondition, MatchValue\n",
    "search_result = client.search(\n",
    "    collection_name=\"test_collection\",\n",
    "    query_vector=[0.2, 0.1, 0.9, 0.7], \n",
    "    query_filter=Filter(\n",
    "        must=[\n",
    "            FieldCondition(\n",
    "                key=\"city\",\n",
    "                match=MatchValue(value=\"London\")\n",
    "            )\n",
    "        ]\n",
    "    ),\n",
    "    limit=3\n",
    ")"
   ]
  },
  {
   "cell_type": "code",
   "execution_count": 13,
   "id": "45073aa9-2a54-4804-996c-3f63e1f10fa9",
   "metadata": {},
   "outputs": [
    {
     "name": "stdout",
     "output_type": "stream",
     "text": [
      "id=4 version=0 score=1.362 payload={'city': ['London', 'Moscow']} vector=None\n",
      "id=2 version=0 score=0.871 payload={'city': ['Berlin', 'London']} vector=None\n"
     ]
    }
   ],
   "source": [
    "assert len(search_result) == 2\n",
    "\n",
    "print(search_result[0])\n",
    "# ScoredPoint(id=4, score=1.362, ...)\n",
    "\n",
    "print(search_result[1])\n",
    "# ScoredPoint(id=2, score=0.871, ...)"
   ]
  },
  {
   "cell_type": "code",
   "execution_count": null,
   "id": "2828be20-47f1-438a-aecf-37512daae856",
   "metadata": {},
   "outputs": [],
   "source": []
  }
 ],
 "metadata": {
  "kernelspec": {
   "display_name": "Python 3 (ipykernel)",
   "language": "python",
   "name": "python3"
  },
  "language_info": {
   "codemirror_mode": {
    "name": "ipython",
    "version": 3
   },
   "file_extension": ".py",
   "mimetype": "text/x-python",
   "name": "python",
   "nbconvert_exporter": "python",
   "pygments_lexer": "ipython3",
   "version": "3.10.12"
  }
 },
 "nbformat": 4,
 "nbformat_minor": 5
}
