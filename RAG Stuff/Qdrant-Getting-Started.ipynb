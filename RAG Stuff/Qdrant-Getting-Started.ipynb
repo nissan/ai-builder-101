{
 "cells": [
  {
   "cell_type": "markdown",
   "id": "a94c49e6-25e6-4345-a494-1e4a8c53cfdf",
   "metadata": {},
   "source": [
    "# QDrant getting started"
   ]
  },
  {
   "cell_type": "markdown",
   "id": "a4e699af-fed2-4aa4-986e-a158a36fa6d2",
   "metadata": {},
   "source": [
    "> Run first from a terminal"
   ]
  },
  {
   "cell_type": "code",
   "execution_count": 1,
   "id": "19fb88b4-4c73-4de8-8cf8-ec47e609cdbc",
   "metadata": {},
   "outputs": [],
   "source": [
    "# docker pull qdrant/qdrant\n",
    "# docker run -p 6333:6333 qdrant/qdrant"
   ]
  },
  {
   "cell_type": "code",
   "execution_count": 2,
   "id": "3088010a-7c9d-46ed-97fb-6a654f382a5a",
   "metadata": {},
   "outputs": [
    {
     "name": "stdout",
     "output_type": "stream",
     "text": [
      "           _                 _    \n",
      "  __ _  __| |_ __ __ _ _ __ | |_  \n",
      " / _` |/ _` | '__/ _` | '_ \\| __| \n",
      "| (_| | (_| | | | (_| | | | | |_  \n",
      " \\__, |\\__,_|_|  \\__,_|_| |_|\\__| \n",
      "    |_|                           \n",
      "\n",
      "Access web UI at http://localhost:6333/dashboard\n",
      "\n",
      "[2023-08-18T11:41:15.280Z INFO  storage::content_manager::consensus::persistent] Initializing new raft state at ./storage/raft_state.json\n",
      "[2023-08-18T11:41:15.334Z INFO  qdrant] Distributed mode disabled\n",
      "[2023-08-18T11:41:15.334Z INFO  qdrant] Telemetry reporting enabled, id: 03da7b0c-3192-441d-9950-744ffd722f6c\n",
      "[2023-08-18T11:41:15.340Z INFO  qdrant::tonic] Qdrant gRPC listening on 6334\n",
      "[2023-08-18T11:41:15.340Z INFO  qdrant::tonic] TLS disabled for gRPC API\n",
      "[2023-08-18T11:41:15.342Z INFO  qdrant::actix] TLS disabled for REST API\n",
      "[2023-08-18T11:41:15.342Z INFO  qdrant::actix] Qdrant HTTP listening on 6333\n",
      "[2023-08-18T11:41:15.342Z INFO  actix_server::builder] Starting 15 workers\n",
      "[2023-08-18T11:41:15.342Z INFO  actix_server::server] Actix runtime found; starting in Actix runtime\n"
     ]
    }
   ],
   "source": [
    "!docker logs qdrant --tail 20"
   ]
  },
  {
   "cell_type": "code",
   "execution_count": 3,
   "id": "30752aac-b831-4236-bbb5-848d1ddb4cb1",
   "metadata": {},
   "outputs": [
    {
     "name": "stdout",
     "output_type": "stream",
     "text": [
      "Requirement already satisfied: qdrant-client in /home/nissan/mambaforge/lib/python3.10/site-packages (1.4.0)\n",
      "Requirement already satisfied: grpcio>=1.41.0 in /home/nissan/mambaforge/lib/python3.10/site-packages (from qdrant-client) (1.57.0)\n",
      "Requirement already satisfied: grpcio-tools>=1.41.0 in /home/nissan/mambaforge/lib/python3.10/site-packages (from qdrant-client) (1.57.0)\n",
      "Requirement already satisfied: httpx[http2]>=0.14.0 in /home/nissan/mambaforge/lib/python3.10/site-packages (from qdrant-client) (0.24.1)\n",
      "Requirement already satisfied: numpy>=1.21 in /home/nissan/mambaforge/lib/python3.10/site-packages (from qdrant-client) (1.25.2)\n",
      "Requirement already satisfied: portalocker<3.0.0,>=2.7.0 in /home/nissan/mambaforge/lib/python3.10/site-packages (from qdrant-client) (2.7.0)\n",
      "Requirement already satisfied: pydantic>=1.10.8 in /home/nissan/mambaforge/lib/python3.10/site-packages (from qdrant-client) (1.10.12)\n",
      "Requirement already satisfied: urllib3<2.0.0,>=1.26.14 in /home/nissan/mambaforge/lib/python3.10/site-packages (from qdrant-client) (1.26.16)\n",
      "Requirement already satisfied: protobuf<5.0dev,>=4.21.6 in /home/nissan/mambaforge/lib/python3.10/site-packages (from grpcio-tools>=1.41.0->qdrant-client) (4.24.0)\n",
      "Requirement already satisfied: setuptools in /home/nissan/mambaforge/lib/python3.10/site-packages (from grpcio-tools>=1.41.0->qdrant-client) (68.0.0)\n",
      "Requirement already satisfied: certifi in /home/nissan/mambaforge/lib/python3.10/site-packages (from httpx[http2]>=0.14.0->qdrant-client) (2023.7.22)\n",
      "Requirement already satisfied: httpcore<0.18.0,>=0.15.0 in /home/nissan/mambaforge/lib/python3.10/site-packages (from httpx[http2]>=0.14.0->qdrant-client) (0.17.3)\n",
      "Requirement already satisfied: idna in /home/nissan/mambaforge/lib/python3.10/site-packages (from httpx[http2]>=0.14.0->qdrant-client) (3.4)\n",
      "Requirement already satisfied: sniffio in /home/nissan/mambaforge/lib/python3.10/site-packages (from httpx[http2]>=0.14.0->qdrant-client) (1.3.0)\n",
      "Requirement already satisfied: h2<5,>=3 in /home/nissan/mambaforge/lib/python3.10/site-packages (from httpx[http2]>=0.14.0->qdrant-client) (4.1.0)\n",
      "Requirement already satisfied: typing-extensions>=4.2.0 in /home/nissan/mambaforge/lib/python3.10/site-packages (from pydantic>=1.10.8->qdrant-client) (4.7.1)\n",
      "Requirement already satisfied: hyperframe<7,>=6.0 in /home/nissan/mambaforge/lib/python3.10/site-packages (from h2<5,>=3->httpx[http2]>=0.14.0->qdrant-client) (6.0.1)\n",
      "Requirement already satisfied: hpack<5,>=4.0 in /home/nissan/mambaforge/lib/python3.10/site-packages (from h2<5,>=3->httpx[http2]>=0.14.0->qdrant-client) (4.0.0)\n",
      "Requirement already satisfied: h11<0.15,>=0.13 in /home/nissan/mambaforge/lib/python3.10/site-packages (from httpcore<0.18.0,>=0.15.0->httpx[http2]>=0.14.0->qdrant-client) (0.14.0)\n",
      "Requirement already satisfied: anyio<5.0,>=3.0 in /home/nissan/mambaforge/lib/python3.10/site-packages (from httpcore<0.18.0,>=0.15.0->httpx[http2]>=0.14.0->qdrant-client) (3.7.1)\n",
      "Requirement already satisfied: exceptiongroup in /home/nissan/mambaforge/lib/python3.10/site-packages (from anyio<5.0,>=3.0->httpcore<0.18.0,>=0.15.0->httpx[http2]>=0.14.0->qdrant-client) (1.1.2)\n",
      "Note: you may need to restart the kernel to use updated packages.\n"
     ]
    }
   ],
   "source": [
    "pip install qdrant-client"
   ]
  },
  {
   "cell_type": "code",
   "execution_count": 4,
   "id": "bce3983e-74c1-4a59-a271-2a11e2475f36",
   "metadata": {},
   "outputs": [],
   "source": [
    "from qdrant_client import QdrantClient\n",
    "from qdrant_client.http import models\n",
    "import numpy as np\n",
    "from faker import Faker"
   ]
  },
  {
   "cell_type": "code",
   "execution_count": 5,
   "id": "646bedfc-b1d4-454b-a416-baf4da0f9bf9",
   "metadata": {},
   "outputs": [
    {
     "data": {
      "text/plain": [
       "<qdrant_client.qdrant_client.QdrantClient at 0x7f46bd05e9e0>"
      ]
     },
     "execution_count": 5,
     "metadata": {},
     "output_type": "execute_result"
    }
   ],
   "source": [
    "client = QdrantClient(host=\"localhost\", port=6333)\n",
    "client"
   ]
  },
  {
   "cell_type": "code",
   "execution_count": 6,
   "id": "f1721991-4b5d-48e1-aad3-42ed2a039f8a",
   "metadata": {},
   "outputs": [
    {
     "data": {
      "text/plain": [
       "True"
      ]
     },
     "execution_count": 6,
     "metadata": {},
     "output_type": "execute_result"
    }
   ],
   "source": [
    "my_collection=\"first collection\"\n",
    "client.create_collection(\n",
    "    collection_name=my_collection,\n",
    "    vectors_config=models.VectorParams(size=100, distance=models.Distance.COSINE)\n",
    ")"
   ]
  },
  {
   "cell_type": "code",
   "execution_count": 7,
   "id": "990d8ece-81cb-406a-bdc6-b174c32c8030",
   "metadata": {},
   "outputs": [],
   "source": [
    "data = np.random.uniform(low=-1.0, high=1.0, size=(1_000, 100))\n",
    "index = list(range(len(data)))"
   ]
  },
  {
   "cell_type": "code",
   "execution_count": 8,
   "id": "250c9e61-d396-4d46-ab7e-d3c66a9684ce",
   "metadata": {},
   "outputs": [
    {
     "data": {
      "text/plain": [
       "array([[-0.80888272, -0.85981389, -0.77255427,  0.28150384, -0.54741752,\n",
       "         0.58079336,  0.39604837, -0.56025013, -0.52022725, -0.63509455],\n",
       "       [ 0.04350789, -0.50781614, -0.65557692,  0.41984314, -0.61817814,\n",
       "        -0.94368377, -0.69431677,  0.37995716,  0.84685145, -0.2215611 ]])"
      ]
     },
     "execution_count": 8,
     "metadata": {},
     "output_type": "execute_result"
    }
   ],
   "source": [
    "data[:2,:10]"
   ]
  },
  {
   "cell_type": "code",
   "execution_count": 9,
   "id": "c2580f6c-8662-484d-9e9c-db4acaaabf3d",
   "metadata": {},
   "outputs": [
    {
     "data": {
      "text/plain": [
       "[990, 991, 992, 993, 994, 995, 996, 997, 998, 999]"
      ]
     },
     "execution_count": 9,
     "metadata": {},
     "output_type": "execute_result"
    }
   ],
   "source": [
    "index[-10:]"
   ]
  },
  {
   "cell_type": "code",
   "execution_count": 10,
   "id": "f51b1e02-8af8-4377-8f9e-36c12a93e0d5",
   "metadata": {},
   "outputs": [
    {
     "data": {
      "text/plain": [
       "UpdateResult(operation_id=0, status=<UpdateStatus.COMPLETED: 'completed'>)"
      ]
     },
     "execution_count": 10,
     "metadata": {},
     "output_type": "execute_result"
    }
   ],
   "source": [
    "client.upsert(\n",
    "    collection_name=my_collection,\n",
    "    points=models.Batch(\n",
    "        ids=index,\n",
    "        vectors=data.tolist()\n",
    "    )\n",
    ")"
   ]
  },
  {
   "cell_type": "code",
   "execution_count": 11,
   "id": "9321d0fe-afdb-40e5-a986-5469e05aa7b4",
   "metadata": {},
   "outputs": [
    {
     "data": {
      "text/plain": [
       "[Record(id=500, payload={}, vector=None),\n",
       " Record(id=10, payload={}, vector=None),\n",
       " Record(id=14, payload={}, vector=None)]"
      ]
     },
     "execution_count": 11,
     "metadata": {},
     "output_type": "execute_result"
    }
   ],
   "source": [
    "client.retrieve(\n",
    "    collection_name=my_collection,\n",
    "    ids=[10, 14, 500],\n",
    "    # with_vectors=True\n",
    ")"
   ]
  },
  {
   "cell_type": "code",
   "execution_count": 12,
   "id": "2a4d0253-6944-4bcd-b4a4-51961e607023",
   "metadata": {},
   "outputs": [
    {
     "data": {
      "text/plain": [
       "('Taylor Carlson', '79170 Sara Islands\\nRubenchester, ME 35115')"
      ]
     },
     "execution_count": 12,
     "metadata": {},
     "output_type": "execute_result"
    }
   ],
   "source": [
    "fake_something= Faker()\n",
    "fake_something.name(), fake_something.address()"
   ]
  },
  {
   "cell_type": "code",
   "execution_count": 13,
   "id": "2c5f489d-cbea-4573-b01b-63d1a789548f",
   "metadata": {},
   "outputs": [
    {
     "data": {
      "text/plain": [
       "[{'artist': 'Trevor Boyd',\n",
       "  'song': 'mention edge husband',\n",
       "  'url_song': 'http://stokes.com/',\n",
       "  'year': '1971',\n",
       "  'country': 'Maldives'},\n",
       " {'artist': 'Nathaniel Simmons',\n",
       "  'song': 'poor entire down',\n",
       "  'url_song': 'https://www.anderson.net/',\n",
       "  'year': '1993',\n",
       "  'country': 'Bahrain'},\n",
       " {'artist': 'Kathleen King',\n",
       "  'song': 'nothing her individual',\n",
       "  'url_song': 'https://www.harrison.com/',\n",
       "  'year': '1993',\n",
       "  'country': 'Swaziland'}]"
      ]
     },
     "execution_count": 13,
     "metadata": {},
     "output_type": "execute_result"
    }
   ],
   "source": [
    "payload = []\n",
    "for i in range(1_000):\n",
    "    payload.append(\n",
    "        {\n",
    "        \"artist\": fake_something.name(),\n",
    "        \"song\": \" \".join(fake_something.words()),\n",
    "        \"url_song\": fake_something.url(),\n",
    "        \"year\": fake_something.year(),\n",
    "        \"country\": fake_something.country()\n",
    "        }\n",
    "    )\n",
    "payload[:3]"
   ]
  },
  {
   "cell_type": "code",
   "execution_count": 14,
   "id": "1bce6f6c-db62-4531-ac7e-a1cc1fd44d1b",
   "metadata": {},
   "outputs": [
    {
     "data": {
      "text/plain": [
       "UpdateResult(operation_id=1, status=<UpdateStatus.COMPLETED: 'completed'>)"
      ]
     },
     "execution_count": 14,
     "metadata": {},
     "output_type": "execute_result"
    }
   ],
   "source": [
    "client.upsert(\n",
    "    collection_name = my_collection,\n",
    "    points = models.Batch(\n",
    "        ids = index,\n",
    "        vectors=data.tolist(),\n",
    "        payloads=payload\n",
    "    )\n",
    ")"
   ]
  },
  {
   "cell_type": "markdown",
   "id": "52549d22-bf1e-4f03-ba4c-1215404dd509",
   "metadata": {},
   "source": [
    "### Semantic Search"
   ]
  },
  {
   "cell_type": "code",
   "execution_count": 15,
   "id": "e294ff03-3f9d-4f38-9215-e98b5f529ebd",
   "metadata": {},
   "outputs": [
    {
     "data": {
      "text/plain": [
       "[-0.29420670629043455,\n",
       " -0.050257055327542766,\n",
       " 0.22891916963552572,\n",
       " -0.2760902389581992,\n",
       " -0.8374864545947605]"
      ]
     },
     "execution_count": 15,
     "metadata": {},
     "output_type": "execute_result"
    }
   ],
   "source": [
    "living_la_vida_loca = np.random.uniform(low=-1.0, high=1.0, size=(100)).tolist()\n",
    "living_la_vida_loca[:5]"
   ]
  },
  {
   "cell_type": "code",
   "execution_count": 16,
   "id": "1cba79c7-ead2-4517-80a0-eaeb25224849",
   "metadata": {},
   "outputs": [
    {
     "data": {
      "text/plain": [
       "[ScoredPoint(id=12, version=1, score=0.4059105, payload={'artist': 'Randall Elliott', 'country': 'Reunion', 'song': 'season choose woman', 'url_song': 'https://www.atkins.com/', 'year': '1973'}, vector=None),\n",
       " ScoredPoint(id=996, version=1, score=0.28662387, payload={'artist': 'Donald Zavala', 'country': 'Congo', 'song': 'factor mouth decision', 'url_song': 'https://www.walker-gallegos.com/', 'year': '1977'}, vector=None),\n",
       " ScoredPoint(id=349, version=1, score=0.26726472, payload={'artist': 'William Jones', 'country': 'Brunei Darussalam', 'song': 'understand history everything', 'url_song': 'http://www.ali.net/', 'year': '1990'}, vector=None),\n",
       " ScoredPoint(id=118, version=1, score=0.260951, payload={'artist': 'Tiffany Ryan', 'country': 'Uruguay', 'song': 'form education feeling', 'url_song': 'http://www.sandoval.com/', 'year': '1990'}, vector=None),\n",
       " ScoredPoint(id=993, version=1, score=0.25718462, payload={'artist': 'Chelsea Nelson', 'country': 'British Indian Ocean Territory (Chagos Archipelago)', 'song': 'blood safe step', 'url_song': 'https://meza-pierce.com/', 'year': '1979'}, vector=None),\n",
       " ScoredPoint(id=480, version=1, score=0.2560018, payload={'artist': 'Heather Payne', 'country': 'Kiribati', 'song': 'send art quality', 'url_song': 'http://frank.biz/', 'year': '2006'}, vector=None),\n",
       " ScoredPoint(id=419, version=1, score=0.24213634, payload={'artist': 'Miguel Ross', 'country': 'Yemen', 'song': 'property road decade', 'url_song': 'https://mack.com/', 'year': '1981'}, vector=None),\n",
       " ScoredPoint(id=586, version=1, score=0.24009243, payload={'artist': 'William Coleman', 'country': 'Martinique', 'song': 'finally outside here', 'url_song': 'https://www.miller.com/', 'year': '1999'}, vector=None),\n",
       " ScoredPoint(id=62, version=1, score=0.23905076, payload={'artist': 'Gary Hayes', 'country': 'Korea', 'song': 'coach wonder partner', 'url_song': 'http://www.mcdonald-montgomery.com/', 'year': '1999'}, vector=None),\n",
       " ScoredPoint(id=174, version=1, score=0.23464671, payload={'artist': 'Jon Parks', 'country': 'Mauritania', 'song': 'spring fill inside', 'url_song': 'https://stephens.net/', 'year': '1992'}, vector=None)]"
      ]
     },
     "execution_count": 16,
     "metadata": {},
     "output_type": "execute_result"
    }
   ],
   "source": [
    "client.search(\n",
    "    collection_name=my_collection,\n",
    "    query_vector=living_la_vida_loca,\n",
    "    limit=10\n",
    ")"
   ]
  },
  {
   "cell_type": "code",
   "execution_count": 17,
   "id": "6b72fe92-efdd-41a6-ba50-5cc7a162f4f5",
   "metadata": {},
   "outputs": [
    {
     "data": {
      "text/plain": [
       "Filter(should=None, must=[FieldCondition(key='country', match=MatchValue(value='Australia'), range=None, geo_bounding_box=None, geo_radius=None, values_count=None)], must_not=None)"
      ]
     },
     "execution_count": 17,
     "metadata": {},
     "output_type": "execute_result"
    }
   ],
   "source": [
    "aussie_songs = models.Filter(\n",
    "    must=[\n",
    "        models.FieldCondition(\n",
    "            key=\"country\", match=models.MatchValue(value=\"Australia\")\n",
    "        )\n",
    "    ]\n",
    ")\n",
    "aussie_songs"
   ]
  },
  {
   "cell_type": "code",
   "execution_count": 18,
   "id": "dee669b0-e897-4c7e-a87f-a71ce39e2824",
   "metadata": {},
   "outputs": [
    {
     "data": {
      "text/plain": [
       "[ScoredPoint(id=412, version=1, score=0.033074193, payload={'artist': 'Ms. Melissa Berry', 'country': 'Australia', 'song': 'trouble candidate significant', 'url_song': 'http://clark.com/', 'year': '1979'}, vector=None),\n",
       " ScoredPoint(id=323, version=1, score=-0.015690451, payload={'artist': 'Alicia Martin', 'country': 'Australia', 'song': 'arrive discussion commercial', 'url_song': 'http://williams.info/', 'year': '2010'}, vector=None),\n",
       " ScoredPoint(id=143, version=1, score=-0.11761058, payload={'artist': 'Carol Flores', 'country': 'Australia', 'song': 'sign sense start', 'url_song': 'https://anderson.com/', 'year': '2011'}, vector=None),\n",
       " ScoredPoint(id=438, version=1, score=-0.20966032, payload={'artist': 'Matthew Lynn', 'country': 'Australia', 'song': 'a hope year', 'url_song': 'https://www.henson.com/', 'year': '2016'}, vector=None)]"
      ]
     },
     "execution_count": 18,
     "metadata": {},
     "output_type": "execute_result"
    }
   ],
   "source": [
    "client.search(\n",
    "    collection_name=my_collection,\n",
    "    query_vector=living_la_vida_loca,\n",
    "    query_filter=aussie_songs,\n",
    "    limit=10\n",
    ")"
   ]
  },
  {
   "cell_type": "markdown",
   "id": "ef95b1ec-6535-4159-b0da-3bf2547b6657",
   "metadata": {},
   "source": [
    "## Recommendation"
   ]
  },
  {
   "cell_type": "code",
   "execution_count": 19,
   "id": "e7deca0e-f668-40c2-a67f-efee4f7d9935",
   "metadata": {},
   "outputs": [
    {
     "ename": "AssertionError",
     "evalue": "Unknown arguments: ['query_vector']",
     "output_type": "error",
     "traceback": [
      "\u001b[0;31m---------------------------------------------------------------------------\u001b[0m",
      "\u001b[0;31mAssertionError\u001b[0m                            Traceback (most recent call last)",
      "Cell \u001b[0;32mIn[19], line 1\u001b[0m\n\u001b[0;32m----> 1\u001b[0m \u001b[43mclient\u001b[49m\u001b[38;5;241;43m.\u001b[39;49m\u001b[43mrecommend\u001b[49m\u001b[43m(\u001b[49m\n\u001b[1;32m      2\u001b[0m \u001b[43m    \u001b[49m\u001b[43mcollection_name\u001b[49m\u001b[38;5;241;43m=\u001b[39;49m\u001b[43mmy_collection\u001b[49m\u001b[43m,\u001b[49m\u001b[43m \u001b[49m\n\u001b[1;32m      3\u001b[0m \u001b[43m    \u001b[49m\u001b[43mquery_vector\u001b[49m\u001b[38;5;241;43m=\u001b[39;49m\u001b[43mliving_la_vida_loca\u001b[49m\u001b[43m,\u001b[49m\n\u001b[1;32m      4\u001b[0m \u001b[43m    \u001b[49m\u001b[43mpositive\u001b[49m\u001b[38;5;241;43m=\u001b[39;49m\u001b[43m[\u001b[49m\u001b[38;5;241;43m17\u001b[39;49m\u001b[43m]\u001b[49m\u001b[43m,\u001b[49m\n\u001b[1;32m      5\u001b[0m \u001b[43m    \u001b[49m\u001b[43mlimit\u001b[49m\u001b[38;5;241;43m=\u001b[39;49m\u001b[38;5;241;43m5\u001b[39;49m\n\u001b[1;32m      6\u001b[0m \u001b[43m)\u001b[49m\n",
      "File \u001b[0;32m~/mambaforge/lib/python3.10/site-packages/qdrant_client/qdrant_client.py:512\u001b[0m, in \u001b[0;36mQdrantClient.recommend\u001b[0;34m(self, collection_name, positive, negative, query_filter, search_params, limit, offset, with_payload, with_vectors, score_threshold, using, lookup_from, consistency, **kwargs)\u001b[0m\n\u001b[1;32m    437\u001b[0m \u001b[38;5;28;01mdef\u001b[39;00m \u001b[38;5;21mrecommend\u001b[39m(\n\u001b[1;32m    438\u001b[0m     \u001b[38;5;28mself\u001b[39m,\n\u001b[1;32m    439\u001b[0m     collection_name: \u001b[38;5;28mstr\u001b[39m,\n\u001b[0;32m   (...)\u001b[0m\n\u001b[1;32m    452\u001b[0m     \u001b[38;5;241m*\u001b[39m\u001b[38;5;241m*\u001b[39mkwargs: Any,\n\u001b[1;32m    453\u001b[0m ) \u001b[38;5;241m-\u001b[39m\u001b[38;5;241m>\u001b[39m List[types\u001b[38;5;241m.\u001b[39mScoredPoint]:\n\u001b[1;32m    454\u001b[0m \u001b[38;5;250m    \u001b[39m\u001b[38;5;124;03m\"\"\"Recommend points: search for similar points based on already stored in Qdrant examples.\u001b[39;00m\n\u001b[1;32m    455\u001b[0m \n\u001b[1;32m    456\u001b[0m \u001b[38;5;124;03m    Provide IDs of the stored points, and Qdrant will perform search based on already existing vectors.\u001b[39;00m\n\u001b[0;32m   (...)\u001b[0m\n\u001b[1;32m    510\u001b[0m \u001b[38;5;124;03m        List of recommended points with similarity scores.\u001b[39;00m\n\u001b[1;32m    511\u001b[0m \u001b[38;5;124;03m    \"\"\"\u001b[39;00m\n\u001b[0;32m--> 512\u001b[0m     \u001b[38;5;28;01massert\u001b[39;00m \u001b[38;5;28mlen\u001b[39m(kwargs) \u001b[38;5;241m==\u001b[39m \u001b[38;5;241m0\u001b[39m, \u001b[38;5;124mf\u001b[39m\u001b[38;5;124m\"\u001b[39m\u001b[38;5;124mUnknown arguments: \u001b[39m\u001b[38;5;132;01m{\u001b[39;00m\u001b[38;5;28mlist\u001b[39m(kwargs\u001b[38;5;241m.\u001b[39mkeys())\u001b[38;5;132;01m}\u001b[39;00m\u001b[38;5;124m\"\u001b[39m\n\u001b[1;32m    514\u001b[0m     \u001b[38;5;28;01mreturn\u001b[39;00m \u001b[38;5;28mself\u001b[39m\u001b[38;5;241m.\u001b[39m_client\u001b[38;5;241m.\u001b[39mrecommend(\n\u001b[1;32m    515\u001b[0m         collection_name\u001b[38;5;241m=\u001b[39mcollection_name,\n\u001b[1;32m    516\u001b[0m         positive\u001b[38;5;241m=\u001b[39mpositive,\n\u001b[0;32m   (...)\u001b[0m\n\u001b[1;32m    528\u001b[0m         \u001b[38;5;241m*\u001b[39m\u001b[38;5;241m*\u001b[39mkwargs,\n\u001b[1;32m    529\u001b[0m     )\n",
      "\u001b[0;31mAssertionError\u001b[0m: Unknown arguments: ['query_vector']"
     ]
    }
   ],
   "source": [
    "client.recommend(\n",
    "    collection_name=my_collection, \n",
    "    query_vector=living_la_vida_loca,\n",
    "    positive=[17],\n",
    "    limit=5\n",
    ")"
   ]
  },
  {
   "cell_type": "code",
   "execution_count": null,
   "id": "72e3c23e-4953-44fe-b771-d33c8c6d23fb",
   "metadata": {},
   "outputs": [],
   "source": []
  }
 ],
 "metadata": {
  "kernelspec": {
   "display_name": "Python 3 (ipykernel)",
   "language": "python",
   "name": "python3"
  },
  "language_info": {
   "codemirror_mode": {
    "name": "ipython",
    "version": 3
   },
   "file_extension": ".py",
   "mimetype": "text/x-python",
   "name": "python",
   "nbconvert_exporter": "python",
   "pygments_lexer": "ipython3",
   "version": "3.10.12"
  }
 },
 "nbformat": 4,
 "nbformat_minor": 5
}
