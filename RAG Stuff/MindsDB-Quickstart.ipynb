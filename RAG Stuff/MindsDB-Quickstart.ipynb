{
 "cells": [
  {
   "cell_type": "markdown",
   "id": "75e03e35-1d99-4d55-881a-66bdfa73ad90",
   "metadata": {},
   "source": [
    "# MindsDB Quickstart from [Docs](https://docs.mindsdb.com/setup/self-hosted/docker?_gl=1*1ayfdjh*_ga*NzgyMzk2ODQ1LjE2OTIzNDkzNzI.*_ga_7LGFPGV6XV*MTY5MjM2MDUwMi4zLjAuMTY5MjM2MDUwMi42MC4wLjA.)"
   ]
  },
  {
   "cell_type": "markdown",
   "id": "ecf7ba92-bd42-4a95-afb0-8e50321d55b8",
   "metadata": {},
   "source": [
    "> Run from terminal"
   ]
  },
  {
   "cell_type": "code",
   "execution_count": null,
   "id": "b6686f30-a05c-431d-9e89-ae21684fda32",
   "metadata": {},
   "outputs": [],
   "source": [
    "# mkdir mdb_data\n",
    "# docker run --name mindsdb -p 47334:47334 -p 47335:47335 -v $(pwd)/mdb_data:/root/mdb_storage mindsdb/mindsdb -e MDB_CONFIG_CONTENT='{\"api\":{\"http\": {\"host\": \"0.0.0.0\",\"port\": \"8080\"}}}'\n"
   ]
  }
 ],
 "metadata": {
  "kernelspec": {
   "display_name": "Python 3 (ipykernel)",
   "language": "python",
   "name": "python3"
  },
  "language_info": {
   "codemirror_mode": {
    "name": "ipython",
    "version": 3
   },
   "file_extension": ".py",
   "mimetype": "text/x-python",
   "name": "python",
   "nbconvert_exporter": "python",
   "pygments_lexer": "ipython3",
   "version": "3.10.12"
  }
 },
 "nbformat": 4,
 "nbformat_minor": 5
}
