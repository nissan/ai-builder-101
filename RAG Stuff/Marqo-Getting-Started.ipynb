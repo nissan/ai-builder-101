{
 "cells": [
  {
   "cell_type": "markdown",
   "id": "b641b1db-8ec5-4c11-ba60-f5876b5080f9",
   "metadata": {},
   "source": [
    "# Marqo Getting Started"
   ]
  },
  {
   "cell_type": "markdown",
   "id": "1b2cd7c6-7779-4e09-97df-7ce8bb0c39cd",
   "metadata": {},
   "source": [
    "> Run the following from your terminal"
   ]
  },
  {
   "cell_type": "code",
   "execution_count": 1,
   "id": "cb13118c-5871-4a31-8316-e601a460a951",
   "metadata": {},
   "outputs": [],
   "source": [
    "# !docker rm -f marqo\n",
    "# !docker pull marqoai/marqo:latest\n",
    "# !docker run --name marqo --privileged -p 8882:8882 --add-host host.docker.internal:host-gateway marqoai/marqo:latest\n",
    "!docker run --detach --name marqo --privileged -p 8882:8882 --add-host host.docker.internal:host-gateway marqoai/marqo:latest"
   ]
  },
  {
   "cell_type": "code",
   "execution_count": 40,
   "id": "dd157b88-fa12-4997-b361-ed732a49417b",
   "metadata": {},
   "outputs": [
    {
     "name": "stdout",
     "output_type": "stream",
     "text": [
      "6a80f8e80048: Pulling fs layer\n",
      "d612b5f8a653: Pulling fs layer\n",
      "4f4fb700ef54: Waiting\n",
      "6a80f8e80048: Waiting\n",
      "d612b5f8a653: Waiting\n",
      "237b91e13be3: Download complete\n",
      "471574b8cfce: Download complete\n",
      "4f4fb700ef54: Verifying Checksum\n",
      "4f4fb700ef54: Download complete\n",
      "6a80f8e80048: Verifying Checksum\n",
      "6a80f8e80048: Download complete\n",
      "d612b5f8a653: Verifying Checksum\n",
      "d612b5f8a653: Download complete\n",
      "e3cfe889ce0a: Verifying Checksum\n",
      "e3cfe889ce0a: Download complete\n",
      "e3cfe889ce0a: Pull complete\n",
      "471574b8cfce: Pull complete\n",
      "237b91e13be3: Pull complete\n",
      "f83c242d5958: Verifying Checksum\n",
      "f83c242d5958: Download complete\n"
     ]
    }
   ],
   "source": [
    "!docker logs marqo --tail 20"
   ]
  },
  {
   "cell_type": "code",
   "execution_count": 3,
   "id": "2e7b5223-4deb-4db3-bd10-233331a53d7f",
   "metadata": {},
   "outputs": [
    {
     "name": "stdout",
     "output_type": "stream",
     "text": [
      "Requirement already satisfied: marqo in /home/nissan/mambaforge/lib/python3.10/site-packages (1.2.4)\n",
      "Requirement already satisfied: requests in /home/nissan/mambaforge/lib/python3.10/site-packages (from marqo) (2.31.0)\n",
      "Requirement already satisfied: urllib3 in /home/nissan/mambaforge/lib/python3.10/site-packages (from marqo) (1.26.16)\n",
      "Requirement already satisfied: pydantic<2.0.0 in /home/nissan/mambaforge/lib/python3.10/site-packages (from marqo) (1.10.12)\n",
      "Requirement already satisfied: typing-extensions>=4.5.0 in /home/nissan/mambaforge/lib/python3.10/site-packages (from marqo) (4.7.1)\n",
      "Requirement already satisfied: packaging in /home/nissan/mambaforge/lib/python3.10/site-packages (from marqo) (23.1)\n",
      "Requirement already satisfied: charset-normalizer<4,>=2 in /home/nissan/mambaforge/lib/python3.10/site-packages (from requests->marqo) (3.2.0)\n",
      "Requirement already satisfied: idna<4,>=2.5 in /home/nissan/mambaforge/lib/python3.10/site-packages (from requests->marqo) (3.4)\n",
      "Requirement already satisfied: certifi>=2017.4.17 in /home/nissan/mambaforge/lib/python3.10/site-packages (from requests->marqo) (2023.7.22)\n",
      "Note: you may need to restart the kernel to use updated packages.\n"
     ]
    }
   ],
   "source": [
    "pip install marqo"
   ]
  },
  {
   "cell_type": "markdown",
   "id": "8383cc26-42ef-4552-9ea7-3249ccec5440",
   "metadata": {},
   "source": [
    "> Restart Kernel function"
   ]
  },
  {
   "cell_type": "code",
   "execution_count": 4,
   "id": "2635defd-a0b6-48dd-a4a6-fe8410195a85",
   "metadata": {},
   "outputs": [],
   "source": [
    "from IPython.display import display_html\n",
    "def restartkernel() :\n",
    "    display_html(\"<script>Jupyter.notebook.kernel.restart()</script>\",raw=True)"
   ]
  },
  {
   "cell_type": "code",
   "execution_count": 5,
   "id": "58c595ef-6690-4788-94aa-48e05803d1cd",
   "metadata": {},
   "outputs": [
    {
     "data": {
      "text/html": [
       "<script>Jupyter.notebook.kernel.restart()</script>"
      ]
     },
     "metadata": {},
     "output_type": "display_data"
    }
   ],
   "source": [
    "restartkernel()"
   ]
  },
  {
   "cell_type": "markdown",
   "id": "7f7ab926-9f7f-4222-b8c0-155eed05662c",
   "metadata": {},
   "source": [
    "## Back to it"
   ]
  },
  {
   "cell_type": "code",
   "execution_count": 6,
   "id": "719fb48f-b7d5-409a-bc39-1a6813400e31",
   "metadata": {},
   "outputs": [],
   "source": [
    "import marqo\n",
    "mq = marqo.Client(url='http://localhost:8882')"
   ]
  },
  {
   "cell_type": "code",
   "execution_count": 7,
   "id": "01955eab-6a8f-4761-a255-d5440911e5d3",
   "metadata": {},
   "outputs": [
    {
     "data": {
      "text/plain": [
       "{'acknowledged': True, 'shards_acknowledged': True, 'index': 'my-first-index'}"
      ]
     },
     "execution_count": 7,
     "metadata": {},
     "output_type": "execute_result"
    }
   ],
   "source": [
    "mq.create_index(\"my-first-index\")"
   ]
  },
  {
   "cell_type": "code",
   "execution_count": 8,
   "id": "1b1506be-9038-4554-a5da-fde8b1ddd3ef",
   "metadata": {},
   "outputs": [
    {
     "data": {
      "text/plain": [
       "{'errors': False,\n",
       " 'processingTimeMs': 361.04777099990315,\n",
       " 'index_name': 'my-first-index',\n",
       " 'items': [{'_id': '710e111f-2854-43e2-8dc5-fd0f16e33c33',\n",
       "   'result': 'created',\n",
       "   'status': 201},\n",
       "  {'_id': 'article_591', 'result': 'created', 'status': 201}]}"
      ]
     },
     "execution_count": 8,
     "metadata": {},
     "output_type": "execute_result"
    }
   ],
   "source": [
    "mq.index(\"my-first-index\").add_documents([\n",
    "    {\n",
    "        \"Title\": \"The Travels of Marco Polo\",\n",
    "        \"Description\": \"A 13th-century travelogue describing Polo's travels\"\n",
    "    }, \n",
    "    {\n",
    "        \"Title\": \"Extravehicular Mobility Unit (EMU)\",\n",
    "        \"Description\": \"The EMU is a spacesuit that provides environmental protection, \"\n",
    "                       \"mobility, life support, and communications for astronauts\",\n",
    "        \"_id\": \"article_591\"\n",
    "    }],\n",
    "    tensor_fields=[\"Title\", \"Description\"]\n",
    ")\n",
    "        "
   ]
  },
  {
   "cell_type": "code",
   "execution_count": 9,
   "id": "ef38d07b-a933-418f-976d-8096053ff6ce",
   "metadata": {},
   "outputs": [],
   "source": [
    "results = mq.index(\"my-first-index\").search(\n",
    "    q=\"What is the best outfit to wear on the moon?\", searchable_attributes=[\"Title\", \"Description\"]\n",
    ")"
   ]
  },
  {
   "cell_type": "code",
   "execution_count": 10,
   "id": "e1cd11f1-ca8b-421c-bb68-0ebe37d9044d",
   "metadata": {},
   "outputs": [
    {
     "name": "stdout",
     "output_type": "stream",
     "text": [
      "{'hits': [{'Description': 'The EMU is a spacesuit that provides environmental '\n",
      "                          'protection, mobility, life support, and '\n",
      "                          'communications for astronauts',\n",
      "           'Title': 'Extravehicular Mobility Unit (EMU)',\n",
      "           '_highlights': {'Description': 'The EMU is a spacesuit that '\n",
      "                                          'provides environmental protection, '\n",
      "                                          'mobility, life support, and '\n",
      "                                          'communications for astronauts'},\n",
      "           '_id': 'article_591',\n",
      "           '_score': 0.6193894},\n",
      "          {'Description': \"A 13th-century travelogue describing Polo's travels\",\n",
      "           'Title': 'The Travels of Marco Polo',\n",
      "           '_highlights': {'Title': 'The Travels of Marco Polo'},\n",
      "           '_id': '710e111f-2854-43e2-8dc5-fd0f16e33c33',\n",
      "           '_score': 0.60237324}],\n",
      " 'limit': 10,\n",
      " 'offset': 0,\n",
      " 'processingTimeMs': 217,\n",
      " 'query': 'What is the best outfit to wear on the moon?'}\n"
     ]
    }
   ],
   "source": [
    "# let's print out the results:\n",
    "import pprint\n",
    "pprint.pprint(results)"
   ]
  },
  {
   "cell_type": "markdown",
   "id": "d89c4008-ae56-4304-956f-9831b960beb2",
   "metadata": {},
   "source": [
    "## Retrieve a document by id"
   ]
  },
  {
   "cell_type": "code",
   "execution_count": 11,
   "id": "0ca83db0-43c7-413e-b3a7-99403e348fcb",
   "metadata": {},
   "outputs": [
    {
     "name": "stdout",
     "output_type": "stream",
     "text": [
      "{'Description': 'The EMU is a spacesuit that provides environmental '\n",
      "                'protection, mobility, life support, and communications for '\n",
      "                'astronauts',\n",
      " 'Title': 'Extravehicular Mobility Unit (EMU)',\n",
      " '_id': 'article_591'}\n"
     ]
    }
   ],
   "source": [
    "result = mq.index(\"my-first-index\").get_document(document_id=\"article_591\")\n",
    "pprint.pprint(result)\n"
   ]
  },
  {
   "cell_type": "markdown",
   "id": "ae613ffb-25c7-4aa0-ada3-88d803256760",
   "metadata": {},
   "source": [
    "## Get index stats"
   ]
  },
  {
   "cell_type": "code",
   "execution_count": 12,
   "id": "eedd2fb3-d11c-4467-a4cc-c8360d9a8380",
   "metadata": {},
   "outputs": [
    {
     "name": "stdout",
     "output_type": "stream",
     "text": [
      "{'numberOfDocuments': 2, 'numberOfVectors': 4}\n"
     ]
    }
   ],
   "source": [
    "results = mq.index(\"my-first-index\").get_stats()\n",
    "pprint.pprint(results)"
   ]
  },
  {
   "cell_type": "markdown",
   "id": "fdb52c1d-6f7d-4fa7-a64b-310eafe9059c",
   "metadata": {},
   "source": [
    "## Lexical search"
   ]
  },
  {
   "cell_type": "code",
   "execution_count": 13,
   "id": "c1f6235e-8e81-4674-9ebe-671e444b4eae",
   "metadata": {},
   "outputs": [
    {
     "name": "stdout",
     "output_type": "stream",
     "text": [
      "{'hits': [{'Description': \"A 13th-century travelogue describing Polo's travels\",\n",
      "           'Title': 'The Travels of Marco Polo',\n",
      "           '_highlights': [],\n",
      "           '_id': '710e111f-2854-43e2-8dc5-fd0f16e33c33',\n",
      "           '_score': 1.3260207}],\n",
      " 'limit': 10,\n",
      " 'offset': 0,\n",
      " 'processingTimeMs': 63,\n",
      " 'query': 'marco polo'}\n"
     ]
    }
   ],
   "source": [
    "result = mq.index(\"my-first-index\").search('marco polo', search_method=marqo.SearchMethods.LEXICAL)\n",
    "pprint.pprint(result)"
   ]
  },
  {
   "cell_type": "markdown",
   "id": "d1c505e0-c86b-4ac7-9174-115f823c1896",
   "metadata": {},
   "source": [
    "## Specific field search"
   ]
  },
  {
   "cell_type": "code",
   "execution_count": 14,
   "id": "d4ec362b-472a-4727-abdc-38c8d57ea91b",
   "metadata": {},
   "outputs": [
    {
     "name": "stdout",
     "output_type": "stream",
     "text": [
      "{'hits': [{'Description': \"A 13th-century travelogue describing Polo's travels\",\n",
      "           'Title': 'The Travels of Marco Polo',\n",
      "           '_highlights': {'Title': 'The Travels of Marco Polo'},\n",
      "           '_id': '710e111f-2854-43e2-8dc5-fd0f16e33c33',\n",
      "           '_score': 0.62348425},\n",
      "          {'Description': 'The EMU is a spacesuit that provides environmental '\n",
      "                          'protection, mobility, life support, and '\n",
      "                          'communications for astronauts',\n",
      "           'Title': 'Extravehicular Mobility Unit (EMU)',\n",
      "           '_highlights': {'Title': 'Extravehicular Mobility Unit (EMU)'},\n",
      "           '_id': 'article_591',\n",
      "           '_score': 0.53939724}],\n",
      " 'limit': 10,\n",
      " 'offset': 0,\n",
      " 'processingTimeMs': 61,\n",
      " 'query': 'adventure'}\n"
     ]
    }
   ],
   "source": [
    "result = mq.index(\"my-first-index\").search('adventure', searchable_attributes=['Title'])\n",
    "pprint.pprint(result)"
   ]
  },
  {
   "cell_type": "markdown",
   "id": "15aad067-cf62-4da8-9b86-6a6e6a5fb0e8",
   "metadata": {},
   "source": [
    "## Multi-modal and cross modal search"
   ]
  },
  {
   "cell_type": "code",
   "execution_count": 15,
   "id": "f53a108c-417e-45a6-a33c-374c681ad96e",
   "metadata": {},
   "outputs": [],
   "source": [
    "settings = {\n",
    "    \"treat_urls_and_pointers_as_images\":True,   # allows us to find an image file and index it \n",
    "    \"model\":\"ViT-L/14\"\n",
    "}"
   ]
  },
  {
   "cell_type": "code",
   "execution_count": 16,
   "id": "f75bb7af-c746-4d17-87da-3836435dabcd",
   "metadata": {},
   "outputs": [],
   "source": [
    "response = mq.create_index(\"my-multimodal-index\", **settings)"
   ]
  },
  {
   "cell_type": "code",
   "execution_count": 17,
   "id": "324ca040-23b5-4205-afed-a3913bca96e2",
   "metadata": {},
   "outputs": [],
   "source": [
    "response = mq.index(\"my-multimodal-index\").add_documents([{\n",
    "    \"My Image\": \"https://raw.githubusercontent.com/marqo-ai/marqo-api-tests/mainline/assets/ai_hippo_realistic.png\",\n",
    "    \"Description\": \"The hippopotamus, also called the common hippopotamus or river hippopotamus, is a large semiaquatic mammal native to sub-Saharan Africa\",\n",
    "    \"_id\": \"hippo-facts\"\n",
    "}], tensor_fields=[\"My Image\", \"Description\"])"
   ]
  },
  {
   "cell_type": "code",
   "execution_count": 18,
   "id": "07efd639-82c7-4d31-b1fb-0b47c87d6d3b",
   "metadata": {},
   "outputs": [
    {
     "name": "stdout",
     "output_type": "stream",
     "text": [
      "{'hits': [{'Description': 'The hippopotamus, also called the common '\n",
      "                          'hippopotamus or river hippopotamus, is a large '\n",
      "                          'semiaquatic mammal native to sub-Saharan Africa',\n",
      "           'My Image': 'https://raw.githubusercontent.com/marqo-ai/marqo-api-tests/mainline/assets/ai_hippo_realistic.png',\n",
      "           '_highlights': {'Description': 'The hippopotamus, also called the '\n",
      "                                          'common hippopotamus or river '\n",
      "                                          'hippopotamus, is a large '\n",
      "                                          'semiaquatic mammal native to '\n",
      "                                          'sub-Saharan Africa'},\n",
      "           '_id': 'hippo-facts',\n",
      "           '_score': 0.82948834}],\n",
      " 'limit': 10,\n",
      " 'offset': 0,\n",
      " 'processingTimeMs': 278,\n",
      " 'query': 'animal'}\n"
     ]
    }
   ],
   "source": [
    "results = mq.index(\"my-multimodal-index\").search('animal')\n",
    "pprint.pprint(results)"
   ]
  },
  {
   "cell_type": "code",
   "execution_count": 19,
   "id": "e9d72d4c-c0b5-47be-a216-8721d3de9f63",
   "metadata": {},
   "outputs": [
    {
     "name": "stdout",
     "output_type": "stream",
     "text": [
      "{'hits': [{'Description': 'The hippopotamus, also called the common '\n",
      "                          'hippopotamus or river hippopotamus, is a large '\n",
      "                          'semiaquatic mammal native to sub-Saharan Africa',\n",
      "           'My Image': 'https://raw.githubusercontent.com/marqo-ai/marqo-api-tests/mainline/assets/ai_hippo_realistic.png',\n",
      "           '_highlights': {'My Image': 'https://raw.githubusercontent.com/marqo-ai/marqo-api-tests/mainline/assets/ai_hippo_realistic.png'},\n",
      "           '_id': 'hippo-facts',\n",
      "           '_score': 0.57958966}],\n",
      " 'limit': 10,\n",
      " 'offset': 0,\n",
      " 'processingTimeMs': 172,\n",
      " 'query': 'animal'}\n"
     ]
    }
   ],
   "source": [
    "results = mq.index(\"my-multimodal-index\").search('animal',  searchable_attributes=['My Image'])\n",
    "pprint.pprint(results)"
   ]
  },
  {
   "cell_type": "markdown",
   "id": "238d84f1-8468-4f1d-bd87-3d6f215e9de6",
   "metadata": {},
   "source": [
    "## Searching using an image"
   ]
  },
  {
   "cell_type": "code",
   "execution_count": 20,
   "id": "2123284a-b0cf-4549-8a8e-bb7a261ca72d",
   "metadata": {},
   "outputs": [
    {
     "name": "stdout",
     "output_type": "stream",
     "text": [
      "{'hits': [{'Description': 'The hippopotamus, also called the common '\n",
      "                          'hippopotamus or river hippopotamus, is a large '\n",
      "                          'semiaquatic mammal native to sub-Saharan Africa',\n",
      "           'My Image': 'https://raw.githubusercontent.com/marqo-ai/marqo-api-tests/mainline/assets/ai_hippo_realistic.png',\n",
      "           '_highlights': {'My Image': 'https://raw.githubusercontent.com/marqo-ai/marqo-api-tests/mainline/assets/ai_hippo_realistic.png'},\n",
      "           '_id': 'hippo-facts',\n",
      "           '_score': 0.8334509}],\n",
      " 'limit': 10,\n",
      " 'offset': 0,\n",
      " 'processingTimeMs': 1568,\n",
      " 'query': 'https://raw.githubusercontent.com/marqo-ai/marqo-api-tests/mainline/assets/ai_hippo_statue.png'}\n"
     ]
    }
   ],
   "source": [
    "results = mq.index(\"my-multimodal-index\").search('https://raw.githubusercontent.com/marqo-ai/marqo-api-tests/mainline/assets/ai_hippo_statue.png')\n",
    "pprint.pprint(results)"
   ]
  },
  {
   "cell_type": "markdown",
   "id": "80cbbb19-fb21-4bb2-b1d9-131851b6a4f8",
   "metadata": {},
   "source": [
    "## Searching using weights in queries"
   ]
  },
  {
   "cell_type": "code",
   "execution_count": 21,
   "id": "336b84c2-0a4b-4850-83b9-fceddb2b5073",
   "metadata": {},
   "outputs": [
    {
     "data": {
      "text/plain": [
       "{'acknowledged': True,\n",
       " 'shards_acknowledged': True,\n",
       " 'index': 'my-weighted-query-index'}"
      ]
     },
     "execution_count": 21,
     "metadata": {},
     "output_type": "execute_result"
    }
   ],
   "source": [
    "import marqo\n",
    "import pprint\n",
    "mq = marqo.Client(url=\"http://localhost:8882\")\n",
    "mq.create_index(\"my-weighted-query-index\")\n"
   ]
  },
  {
   "cell_type": "code",
   "execution_count": 22,
   "id": "d4a787e4-4aa2-4a10-93e2-7e07bb2d3cce",
   "metadata": {},
   "outputs": [
    {
     "data": {
      "text/plain": [
       "{'errors': False,\n",
       " 'processingTimeMs': 322.9877530000067,\n",
       " 'index_name': 'my-weighted-query-index',\n",
       " 'items': [{'_id': '7debd37d-2f5b-45d9-8849-944e168786e4',\n",
       "   'result': 'created',\n",
       "   'status': 201},\n",
       "  {'_id': 'a32133f6-8003-4e9d-ab12-617e41ef16e5',\n",
       "   'result': 'created',\n",
       "   'status': 201},\n",
       "  {'_id': '93a034a5-b686-445c-9a3b-ac52a04aa79f',\n",
       "   'result': 'created',\n",
       "   'status': 201}]}"
      ]
     },
     "execution_count": 22,
     "metadata": {},
     "output_type": "execute_result"
    }
   ],
   "source": [
    "mq.index(\"my-weighted-query-index\").add_documents(\n",
    "    [\n",
    "        {\n",
    "            \"Title\": \"Smartphone\",\n",
    "            \"Description\": \"A smartphone is a portable computer device that combines mobile telephone \"\n",
    "            \"functions and computing functions into one unit.\",\n",
    "        },\n",
    "        {\n",
    "            \"Title\": \"Telephone\",\n",
    "            \"Description\": \"A telephone is a telecommunications device that permits two or more users to\"\n",
    "            \"conduct a conversation when they are too far apart to be easily heard directly.\",\n",
    "        },\n",
    "        {\n",
    "            \"Title\": \"Thylacine\",\n",
    "            \"Description\": \"The thylacine, also commonly known as the Tasmanian tiger or Tasmanian wolf, \"\n",
    "            \"is an extinct carnivorous marsupial.\"\n",
    "            \"The last known of its species died in 1936.\",\n",
    "        },\n",
    "    ],\n",
    "    tensor_fields=[\"Title\", \"Description\"]\n",
    ")"
   ]
  },
  {
   "cell_type": "code",
   "execution_count": 23,
   "id": "666a7d72-8dc0-4b26-a288-dc4db0322a45",
   "metadata": {},
   "outputs": [],
   "source": [
    "# initially we ask for a type of communications device which is popular in the 21st century\n",
    "query = {\n",
    "    # a weighting of 1.1 gives this query slightly more importance\n",
    "    \"I need to buy a communications device, what should I get?\": 1.1,\n",
    "    # a weighting of 1 gives this query a neutral importance\n",
    "    \"Technology that became prevelant in the 21st century\": 1.0,\n",
    "}"
   ]
  },
  {
   "cell_type": "code",
   "execution_count": 24,
   "id": "2b5e5687-88bb-4481-ae25-c70e240361de",
   "metadata": {},
   "outputs": [
    {
     "name": "stdout",
     "output_type": "stream",
     "text": [
      "Query 1:\n",
      "{'hits': [{'Description': 'A smartphone is a portable computer device that '\n",
      "                          'combines mobile telephone functions and computing '\n",
      "                          'functions into one unit.',\n",
      "           'Title': 'Smartphone',\n",
      "           '_highlights': {'Title': 'Smartphone'},\n",
      "           '_id': '7debd37d-2f5b-45d9-8849-944e168786e4',\n",
      "           '_score': 0.7332566},\n",
      "          {'Description': 'A telephone is a telecommunications device that '\n",
      "                          'permits two or more users toconduct a conversation '\n",
      "                          'when they are too far apart to be easily heard '\n",
      "                          'directly.',\n",
      "           'Title': 'Telephone',\n",
      "           '_highlights': {'Title': 'Telephone'},\n",
      "           '_id': 'a32133f6-8003-4e9d-ab12-617e41ef16e5',\n",
      "           '_score': 0.7094748},\n",
      "          {'Description': 'The thylacine, also commonly known as the Tasmanian '\n",
      "                          'tiger or Tasmanian wolf, is an extinct carnivorous '\n",
      "                          'marsupial.The last known of its species died in '\n",
      "                          '1936.',\n",
      "           'Title': 'Thylacine',\n",
      "           '_highlights': {'Title': 'Thylacine'},\n",
      "           '_id': '93a034a5-b686-445c-9a3b-ac52a04aa79f',\n",
      "           '_score': 0.52671295}],\n",
      " 'limit': 10,\n",
      " 'offset': 0,\n",
      " 'processingTimeMs': 57,\n",
      " 'query': {'I need to buy a communications device, what should I get?': 1.1,\n",
      "           'Technology that became prevelant in the 21st century': 1.0}}\n"
     ]
    }
   ],
   "source": [
    "results = mq.index(\"my-weighted-query-index\").search(\n",
    "    q=query, searchable_attributes=[\"Title\", \"Description\"]\n",
    ")\n",
    "\n",
    "print(\"Query 1:\")\n",
    "pprint.pprint(results)"
   ]
  },
  {
   "cell_type": "code",
   "execution_count": 25,
   "id": "9264ccbd-0312-452a-bc60-06796eb5d11c",
   "metadata": {},
   "outputs": [
    {
     "name": "stdout",
     "output_type": "stream",
     "text": [
      "\n",
      "Query 2:\n",
      "{'hits': [{'Description': 'A telephone is a telecommunications device that '\n",
      "                          'permits two or more users toconduct a conversation '\n",
      "                          'when they are too far apart to be easily heard '\n",
      "                          'directly.',\n",
      "           'Title': 'Telephone',\n",
      "           '_highlights': {'Description': 'A telephone is a telecommunications '\n",
      "                                          'device that permits two or more '\n",
      "                                          'users toconduct a conversation when '\n",
      "                                          'they are too far apart to be easily '\n",
      "                                          'heard directly.'},\n",
      "           '_id': 'a32133f6-8003-4e9d-ab12-617e41ef16e5',\n",
      "           '_score': 0.6079516},\n",
      "          {'Description': 'A smartphone is a portable computer device that '\n",
      "                          'combines mobile telephone functions and computing '\n",
      "                          'functions into one unit.',\n",
      "           'Title': 'Smartphone',\n",
      "           '_highlights': {'Description': 'A smartphone is a portable computer '\n",
      "                                          'device that combines mobile '\n",
      "                                          'telephone functions and computing '\n",
      "                                          'functions into one unit.'},\n",
      "           '_id': '7debd37d-2f5b-45d9-8849-944e168786e4',\n",
      "           '_score': 0.55088},\n",
      "          {'Description': 'The thylacine, also commonly known as the Tasmanian '\n",
      "                          'tiger or Tasmanian wolf, is an extinct carnivorous '\n",
      "                          'marsupial.The last known of its species died in '\n",
      "                          '1936.',\n",
      "           'Title': 'Thylacine',\n",
      "           '_highlights': {'Title': 'Thylacine'},\n",
      "           '_id': '93a034a5-b686-445c-9a3b-ac52a04aa79f',\n",
      "           '_score': 0.5019622}],\n",
      " 'limit': 10,\n",
      " 'offset': 0,\n",
      " 'processingTimeMs': 56,\n",
      " 'query': {'I need to buy a communications device, what should I get?': 1.0,\n",
      "           'Technology that became prevelant in the 21st century': -1.0}}\n"
     ]
    }
   ],
   "source": [
    "# now we ask for a type of communications which predates the 21st century\n",
    "query = {\n",
    "    # a weighting of 1 gives this query a neutral importance\n",
    "    \"I need to buy a communications device, what should I get?\": 1.0,\n",
    "    # a weighting of -1 gives this query a negation effect\n",
    "    \"Technology that became prevelant in the 21st century\": -1.0,\n",
    "}\n",
    "\n",
    "results = mq.index(\"my-weighted-query-index\").search(\n",
    "    q=query, searchable_attributes=[\"Title\", \"Description\"]\n",
    ")\n",
    "\n",
    "print(\"\\nQuery 2:\")\n",
    "pprint.pprint(results)"
   ]
  },
  {
   "cell_type": "markdown",
   "id": "0ec265a1-94de-4b6e-adc1-0d70069701b2",
   "metadata": {},
   "source": [
    "## Creating and searching indexes with multimodal combination fields"
   ]
  },
  {
   "cell_type": "code",
   "execution_count": 26,
   "id": "1f0bcfe6-8537-47d9-9640-bd1fb5342637",
   "metadata": {},
   "outputs": [],
   "source": [
    "import marqo\n",
    "import pprint\n",
    "\n",
    "mq = marqo.Client(url=\"http://localhost:8882\")\n",
    "\n",
    "settings = {\"treat_urls_and_pointers_as_images\": True, \"model\": \"ViT-L/14\"}"
   ]
  },
  {
   "cell_type": "code",
   "execution_count": 27,
   "id": "016a158e-5677-47cc-8b44-5f12a72db43e",
   "metadata": {},
   "outputs": [
    {
     "data": {
      "text/plain": [
       "{'acknowledged': True,\n",
       " 'shards_acknowledged': True,\n",
       " 'index': 'my-first-multimodal-index'}"
      ]
     },
     "execution_count": 27,
     "metadata": {},
     "output_type": "execute_result"
    }
   ],
   "source": [
    "mq.create_index(\"my-first-multimodal-index\", **settings)"
   ]
  },
  {
   "cell_type": "code",
   "execution_count": 28,
   "id": "b1dda92f-aa3b-4921-9123-15c9ea3fad0b",
   "metadata": {},
   "outputs": [
    {
     "data": {
      "text/plain": [
       "{'errors': False,\n",
       " 'processingTimeMs': 3663.3276999998543,\n",
       " 'index_name': 'my-first-multimodal-index',\n",
       " 'items': [{'_id': '69f2197c-6b4b-4726-8703-d11a23094821',\n",
       "   'result': 'created',\n",
       "   'status': 201},\n",
       "  {'_id': '32ea62f9-2058-4bb0-baea-59e45adb092a',\n",
       "   'result': 'created',\n",
       "   'status': 201},\n",
       "  {'_id': 'e34be7fa-8e02-4ff6-8bee-fc2c9ea67668',\n",
       "   'result': 'created',\n",
       "   'status': 201}]}"
      ]
     },
     "execution_count": 28,
     "metadata": {},
     "output_type": "execute_result"
    }
   ],
   "source": [
    "mq.index(\"my-first-multimodal-index\").add_documents(\n",
    "    [\n",
    "        {\n",
    "            \"Title\": \"Flying Plane\",\n",
    "            \"captioned_image\": {\n",
    "                \"caption\": \"An image of a passenger plane flying in front of the moon.\",\n",
    "                \"image\": \"https://raw.githubusercontent.com/marqo-ai/marqo/mainline/examples/ImageSearchGuide/data/image2.jpg\",\n",
    "            },\n",
    "        },\n",
    "        {\n",
    "            \"Title\": \"Red Bus\",\n",
    "            \"captioned_image\": {\n",
    "                \"caption\": \"A red double decker London bus traveling to Aldwych\",\n",
    "                \"image\": \"https://raw.githubusercontent.com/marqo-ai/marqo/mainline/examples/ImageSearchGuide/data/image4.jpg\",\n",
    "            },\n",
    "        },\n",
    "        {\n",
    "            \"Title\": \"Horse Jumping\",\n",
    "            \"captioned_image\": {\n",
    "                \"caption\": \"A person riding a horse over a jump in a competition.\",\n",
    "                \"image\": \"https://raw.githubusercontent.com/marqo-ai/marqo/mainline/examples/ImageSearchGuide/data/image1.jpg\",\n",
    "            },\n",
    "        },\n",
    "    ],\n",
    "    # Create the mappings, here we define our captioned_image mapping \n",
    "    # which weights the image more heavily than the caption - these pairs \n",
    "    # will be represented by a single vector in the index\n",
    "    mappings={\n",
    "        \"captioned_image\": {\n",
    "            \"type\": \"multimodal_combination\",\n",
    "            \"weights\": {\n",
    "                \"caption\": 0.3,\n",
    "                \"image\": 0.7,\n",
    "            },\n",
    "        }\n",
    "    },\n",
    "    # We specify which fields to create vectors for. \n",
    "    # Note that captioned_image is treated as a single field.\n",
    "    tensor_fields=[\"Title\", \"captioned_image\"]\n",
    ")"
   ]
  },
  {
   "cell_type": "code",
   "execution_count": 29,
   "id": "88d76c1e-8249-4665-8567-b01f4ad659a2",
   "metadata": {},
   "outputs": [],
   "source": [
    "# Search this index with a simple text query\n",
    "results = mq.index(\"my-first-multimodal-index\").search(\n",
    "    q=\"Give me some images of vehicles and modes of transport. I am especially interested in air travel and commercial aeroplanes.\",\n",
    "    searchable_attributes=[\"captioned_image\"],\n",
    ")"
   ]
  },
  {
   "cell_type": "code",
   "execution_count": 30,
   "id": "72a27441-ead3-4ab1-b1f7-baec3f79eecc",
   "metadata": {},
   "outputs": [
    {
     "name": "stdout",
     "output_type": "stream",
     "text": [
      "Query 1:\n",
      "{'hits': [{'Title': 'Flying Plane',\n",
      "           '_highlights': {'captioned_image': '{\"caption\": \"An image of a '\n",
      "                                              'passenger plane flying in front '\n",
      "                                              'of the moon.\", \"image\": '\n",
      "                                              '\"https://raw.githubusercontent.com/marqo-ai/marqo/mainline/examples/ImageSearchGuide/data/image2.jpg\"}'},\n",
      "           '_id': '69f2197c-6b4b-4726-8703-d11a23094821',\n",
      "           '_score': 0.6611588,\n",
      "           'captioned_image': {'caption': 'An image of a passenger plane '\n",
      "                                          'flying in front of the moon.',\n",
      "                               'image': 'https://raw.githubusercontent.com/marqo-ai/marqo/mainline/examples/ImageSearchGuide/data/image2.jpg'}},\n",
      "          {'Title': 'Red Bus',\n",
      "           '_highlights': {'captioned_image': '{\"caption\": \"A red double '\n",
      "                                              'decker London bus traveling to '\n",
      "                                              'Aldwych\", \"image\": '\n",
      "                                              '\"https://raw.githubusercontent.com/marqo-ai/marqo/mainline/examples/ImageSearchGuide/data/image4.jpg\"}'},\n",
      "           '_id': '32ea62f9-2058-4bb0-baea-59e45adb092a',\n",
      "           '_score': 0.6314496,\n",
      "           'captioned_image': {'caption': 'A red double decker London bus '\n",
      "                                          'traveling to Aldwych',\n",
      "                               'image': 'https://raw.githubusercontent.com/marqo-ai/marqo/mainline/examples/ImageSearchGuide/data/image4.jpg'}},\n",
      "          {'Title': 'Horse Jumping',\n",
      "           '_highlights': {'captioned_image': '{\"caption\": \"A person riding a '\n",
      "                                              'horse over a jump in a '\n",
      "                                              'competition.\", \"image\": '\n",
      "                                              '\"https://raw.githubusercontent.com/marqo-ai/marqo/mainline/examples/ImageSearchGuide/data/image1.jpg\"}'},\n",
      "           '_id': 'e34be7fa-8e02-4ff6-8bee-fc2c9ea67668',\n",
      "           '_score': 0.63136685,\n",
      "           'captioned_image': {'caption': 'A person riding a horse over a jump '\n",
      "                                          'in a competition.',\n",
      "                               'image': 'https://raw.githubusercontent.com/marqo-ai/marqo/mainline/examples/ImageSearchGuide/data/image1.jpg'}}],\n",
      " 'limit': 10,\n",
      " 'offset': 0,\n",
      " 'processingTimeMs': 200,\n",
      " 'query': 'Give me some images of vehicles and modes of transport. I am '\n",
      "          'especially interested in air travel and commercial aeroplanes.'}\n"
     ]
    }
   ],
   "source": [
    "print(\"Query 1:\")\n",
    "pprint.pprint(results)"
   ]
  },
  {
   "cell_type": "code",
   "execution_count": 31,
   "id": "ada7fdb6-e70f-4a07-896d-67b7aae0c3d4",
   "metadata": {},
   "outputs": [
    {
     "name": "stdout",
     "output_type": "stream",
     "text": [
      "\n",
      "Query 2:\n",
      "{'hits': [{'Title': 'Red Bus',\n",
      "           '_highlights': {'captioned_image': '{\"caption\": \"A red double '\n",
      "                                              'decker London bus traveling to '\n",
      "                                              'Aldwych\", \"image\": '\n",
      "                                              '\"https://raw.githubusercontent.com/marqo-ai/marqo/mainline/examples/ImageSearchGuide/data/image4.jpg\"}'},\n",
      "           '_id': '32ea62f9-2058-4bb0-baea-59e45adb092a',\n",
      "           '_score': 0.5551582,\n",
      "           'captioned_image': {'caption': 'A red double decker London bus '\n",
      "                                          'traveling to Aldwych',\n",
      "                               'image': 'https://raw.githubusercontent.com/marqo-ai/marqo/mainline/examples/ImageSearchGuide/data/image4.jpg'}},\n",
      "          {'Title': 'Horse Jumping',\n",
      "           '_highlights': {'captioned_image': '{\"caption\": \"A person riding a '\n",
      "                                              'horse over a jump in a '\n",
      "                                              'competition.\", \"image\": '\n",
      "                                              '\"https://raw.githubusercontent.com/marqo-ai/marqo/mainline/examples/ImageSearchGuide/data/image1.jpg\"}'},\n",
      "           '_id': 'e34be7fa-8e02-4ff6-8bee-fc2c9ea67668',\n",
      "           '_score': 0.48273423,\n",
      "           'captioned_image': {'caption': 'A person riding a horse over a jump '\n",
      "                                          'in a competition.',\n",
      "                               'image': 'https://raw.githubusercontent.com/marqo-ai/marqo/mainline/examples/ImageSearchGuide/data/image1.jpg'}},\n",
      "          {'Title': 'Flying Plane',\n",
      "           '_highlights': {'captioned_image': '{\"caption\": \"An image of a '\n",
      "                                              'passenger plane flying in front '\n",
      "                                              'of the moon.\", \"image\": '\n",
      "                                              '\"https://raw.githubusercontent.com/marqo-ai/marqo/mainline/examples/ImageSearchGuide/data/image2.jpg\"}'},\n",
      "           '_id': '69f2197c-6b4b-4726-8703-d11a23094821',\n",
      "           '_score': 0.4655317,\n",
      "           'captioned_image': {'caption': 'An image of a passenger plane '\n",
      "                                          'flying in front of the moon.',\n",
      "                               'image': 'https://raw.githubusercontent.com/marqo-ai/marqo/mainline/examples/ImageSearchGuide/data/image2.jpg'}}],\n",
      " 'limit': 10,\n",
      " 'offset': 0,\n",
      " 'processingTimeMs': 233,\n",
      " 'query': {'Aeroplanes and other things that fly': -1.0,\n",
      "           'What are some vehicles and modes of transport?': 1.0}}\n"
     ]
    }
   ],
   "source": [
    "# search the index with a query that uses weighted components\n",
    "results = mq.index(\"my-first-multimodal-index\").search(\n",
    "    q={\n",
    "        \"What are some vehicles and modes of transport?\": 1.0,\n",
    "        \"Aeroplanes and other things that fly\": -1.0,\n",
    "    },\n",
    "    searchable_attributes=[\"captioned_image\"],\n",
    ")\n",
    "print(\"\\nQuery 2:\")\n",
    "pprint.pprint(results)"
   ]
  },
  {
   "cell_type": "code",
   "execution_count": 32,
   "id": "d6062c0d-1372-415b-b0dd-b8c1ee0175fe",
   "metadata": {},
   "outputs": [
    {
     "name": "stdout",
     "output_type": "stream",
     "text": [
      "\n",
      "Query 3:\n",
      "{'hits': [{'Title': 'Flying Plane',\n",
      "           '_highlights': {'captioned_image': '{\"caption\": \"An image of a '\n",
      "                                              'passenger plane flying in front '\n",
      "                                              'of the moon.\", \"image\": '\n",
      "                                              '\"https://raw.githubusercontent.com/marqo-ai/marqo/mainline/examples/ImageSearchGuide/data/image2.jpg\"}'},\n",
      "           '_id': '69f2197c-6b4b-4726-8703-d11a23094821',\n",
      "           '_score': 0.4383292,\n",
      "           'captioned_image': {'caption': 'An image of a passenger plane '\n",
      "                                          'flying in front of the moon.',\n",
      "                               'image': 'https://raw.githubusercontent.com/marqo-ai/marqo/mainline/examples/ImageSearchGuide/data/image2.jpg'}},\n",
      "          {'Title': 'Red Bus',\n",
      "           '_highlights': {'captioned_image': '{\"caption\": \"A red double '\n",
      "                                              'decker London bus traveling to '\n",
      "                                              'Aldwych\", \"image\": '\n",
      "                                              '\"https://raw.githubusercontent.com/marqo-ai/marqo/mainline/examples/ImageSearchGuide/data/image4.jpg\"}'},\n",
      "           '_id': '32ea62f9-2058-4bb0-baea-59e45adb092a',\n",
      "           '_score': 0.40140504,\n",
      "           'captioned_image': {'caption': 'A red double decker London bus '\n",
      "                                          'traveling to Aldwych',\n",
      "                               'image': 'https://raw.githubusercontent.com/marqo-ai/marqo/mainline/examples/ImageSearchGuide/data/image4.jpg'}},\n",
      "          {'Title': 'Horse Jumping',\n",
      "           '_highlights': {'captioned_image': '{\"caption\": \"A person riding a '\n",
      "                                              'horse over a jump in a '\n",
      "                                              'competition.\", \"image\": '\n",
      "                                              '\"https://raw.githubusercontent.com/marqo-ai/marqo/mainline/examples/ImageSearchGuide/data/image1.jpg\"}'},\n",
      "           '_id': 'e34be7fa-8e02-4ff6-8bee-fc2c9ea67668',\n",
      "           '_score': 0.3671772,\n",
      "           'captioned_image': {'caption': 'A person riding a horse over a jump '\n",
      "                                          'in a competition.',\n",
      "                               'image': 'https://raw.githubusercontent.com/marqo-ai/marqo/mainline/examples/ImageSearchGuide/data/image1.jpg'}}],\n",
      " 'limit': 10,\n",
      " 'offset': 0,\n",
      " 'processingTimeMs': 117,\n",
      " 'query': {'Animals of the Perissodactyla order': -1.0}}\n"
     ]
    }
   ],
   "source": [
    "results = mq.index(\"my-first-multimodal-index\").search(\n",
    "    q={\"Animals of the Perissodactyla order\": -1.0},\n",
    "    searchable_attributes=[\"captioned_image\"],\n",
    ")\n",
    "print(\"\\nQuery 3:\")\n",
    "pprint.pprint(results)"
   ]
  },
  {
   "cell_type": "markdown",
   "id": "6424bd5d-2e36-4b75-b497-1fea6dc00ffd",
   "metadata": {},
   "source": [
    "## Delete documents"
   ]
  },
  {
   "cell_type": "code",
   "execution_count": 33,
   "id": "b7d72696-7009-4de0-bd78-7e3518300f92",
   "metadata": {},
   "outputs": [
    {
     "name": "stdout",
     "output_type": "stream",
     "text": [
      "{'details': {'deletedDocuments': 1, 'receivedDocumentIds': 2},\n",
      " 'duration': 'PT0.080698S',\n",
      " 'finishedAt': '2023-08-18T11:29:35.348405Z',\n",
      " 'index_name': 'my-first-index',\n",
      " 'startedAt': '2023-08-18T11:29:35.267707Z',\n",
      " 'status': 'succeeded',\n",
      " 'type': 'documentDeletion'}\n"
     ]
    }
   ],
   "source": [
    "results = mq.index(\"my-first-index\").delete_documents(ids=[\"article_591\", \"article_602\"])\n",
    "pprint.pprint(results)"
   ]
  },
  {
   "cell_type": "markdown",
   "id": "6b033fbd-bcc9-4d99-956f-749edf97bb6b",
   "metadata": {},
   "source": [
    "## Delete index"
   ]
  },
  {
   "cell_type": "code",
   "execution_count": 34,
   "id": "2e58b5ab-d747-4ace-9ad0-3cd36abbd992",
   "metadata": {},
   "outputs": [
    {
     "name": "stdout",
     "output_type": "stream",
     "text": [
      "{'acknowledged': True}\n"
     ]
    }
   ],
   "source": [
    "results = mq.index(\"my-first-index\").delete()\n",
    "pprint.pprint(results)"
   ]
  },
  {
   "cell_type": "markdown",
   "id": "51afa798-7efe-4917-8348-f387ba3335f4",
   "metadata": {},
   "source": [
    "## Cleanup"
   ]
  },
  {
   "cell_type": "code",
   "execution_count": 35,
   "id": "15212fa0-e7b1-4f01-af61-5152e53e7313",
   "metadata": {},
   "outputs": [
    {
     "name": "stdout",
     "output_type": "stream",
     "text": [
      "{'acknowledged': True}\n"
     ]
    }
   ],
   "source": [
    "results = mq.index(\"my-first-multimodal-index\").delete()\n",
    "pprint.pprint(results)"
   ]
  },
  {
   "cell_type": "code",
   "execution_count": 36,
   "id": "a021d157-47f4-4f29-8945-d6b5f2c8c743",
   "metadata": {},
   "outputs": [
    {
     "name": "stdout",
     "output_type": "stream",
     "text": [
      "{'acknowledged': True}\n"
     ]
    }
   ],
   "source": [
    "results = mq.index(\"my-weighted-query-index\").delete()\n",
    "pprint.pprint(results)"
   ]
  },
  {
   "cell_type": "code",
   "execution_count": 37,
   "id": "1d5d0852-f8ef-4465-8163-cf212105c328",
   "metadata": {},
   "outputs": [
    {
     "name": "stdout",
     "output_type": "stream",
     "text": [
      "{'acknowledged': True}\n"
     ]
    }
   ],
   "source": [
    "results = mq.index(\"my-multimodal-index\").delete()\n",
    "pprint.pprint(results)"
   ]
  },
  {
   "cell_type": "markdown",
   "id": "2885345a-32b6-409e-9b7b-8adf076fc2df",
   "metadata": {},
   "source": [
    "# Fin."
   ]
  }
 ],
 "metadata": {
  "kernelspec": {
   "display_name": "Python 3 (ipykernel)",
   "language": "python",
   "name": "python3"
  },
  "language_info": {
   "codemirror_mode": {
    "name": "ipython",
    "version": 3
   },
   "file_extension": ".py",
   "mimetype": "text/x-python",
   "name": "python",
   "nbconvert_exporter": "python",
   "pygments_lexer": "ipython3",
   "version": "3.10.12"
  }
 },
 "nbformat": 4,
 "nbformat_minor": 5
}
