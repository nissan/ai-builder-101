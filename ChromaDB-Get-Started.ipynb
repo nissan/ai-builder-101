{
 "cells": [
  {
   "cell_type": "markdown",
   "id": "2239ce48-3333-4015-98c4-756a57fac4eb",
   "metadata": {},
   "source": [
    "# Chroma DB Getting Started"
   ]
  },
  {
   "cell_type": "code",
   "execution_count": 1,
   "id": "af1612af-b849-4ead-afc4-8c593221ed4d",
   "metadata": {},
   "outputs": [],
   "source": [
    "import chromadb"
   ]
  },
  {
   "cell_type": "code",
   "execution_count": 2,
   "id": "b0e127ed-b4a2-4fcf-9d22-91593a1f22d9",
   "metadata": {},
   "outputs": [],
   "source": [
    "chroma_client = chromadb.Client()"
   ]
  },
  {
   "cell_type": "code",
   "execution_count": 3,
   "id": "880bc849-7749-4380-882f-d67758adae27",
   "metadata": {},
   "outputs": [],
   "source": [
    "collection = chroma_client.create_collection(name=\"my_collection\")"
   ]
  },
  {
   "cell_type": "markdown",
   "id": "c78dde15-775b-46cf-8fce-43fb6ea5f917",
   "metadata": {},
   "source": [
    "I want to explore the ChatGPT conversations I exported inside this notebook"
   ]
  },
  {
   "cell_type": "code",
   "execution_count": 4,
   "id": "9d48a292-57b9-48f3-b527-698850773bd3",
   "metadata": {},
   "outputs": [],
   "source": [
    "import json\n",
    "my_chatgpt_history = 'conversations.json'\n",
    "with open(my_chatgpt_history, 'r') as f:\n",
    "    data = json.load(f)"
   ]
  },
  {
   "cell_type": "code",
   "execution_count": 5,
   "id": "e47639df-e853-4277-b149-d43a9c04c883",
   "metadata": {},
   "outputs": [
    {
     "data": {
      "text/plain": [
       "413"
      ]
     },
     "execution_count": 5,
     "metadata": {},
     "output_type": "execute_result"
    }
   ],
   "source": [
    "len(data)"
   ]
  },
  {
   "cell_type": "code",
   "execution_count": 6,
   "id": "f1d6ff99-07ac-4bf1-82d7-0b9ad8a54527",
   "metadata": {},
   "outputs": [
    {
     "data": {
      "text/plain": [
       "list"
      ]
     },
     "execution_count": 6,
     "metadata": {},
     "output_type": "execute_result"
    }
   ],
   "source": [
    "type(data)"
   ]
  },
  {
   "cell_type": "code",
   "execution_count": 7,
   "id": "437e27c7-b8da-4686-b700-ac3272cd72fb",
   "metadata": {},
   "outputs": [
    {
     "data": {
      "text/plain": [
       "{'title': 'Create Alias for User',\n",
       " 'create_time': 1691715416.058288,\n",
       " 'update_time': 1691715685.0,\n",
       " 'mapping': {'a11e80bd-1ca7-4f15-8ea2-41fc724dc0f1': {'id': 'a11e80bd-1ca7-4f15-8ea2-41fc724dc0f1',\n",
       "   'message': {'id': 'a11e80bd-1ca7-4f15-8ea2-41fc724dc0f1',\n",
       "    'author': {'role': 'system', 'name': None, 'metadata': {}},\n",
       "    'create_time': 1691715416.047749,\n",
       "    'update_time': None,\n",
       "    'content': {'content_type': 'text', 'parts': ['']},\n",
       "    'status': 'finished_successfully',\n",
       "    'end_turn': True,\n",
       "    'weight': 1.0,\n",
       "    'metadata': {},\n",
       "    'recipient': 'all'},\n",
       "   'parent': 'aaa1c691-daa0-4ad9-ac7c-119c6e27b7cb',\n",
       "   'children': ['aaa274b6-65cc-4cd7-a882-21215f12e0aa']},\n",
       "  'aaa1c691-daa0-4ad9-ac7c-119c6e27b7cb': {'id': 'aaa1c691-daa0-4ad9-ac7c-119c6e27b7cb',\n",
       "   'message': None,\n",
       "   'parent': None,\n",
       "   'children': ['a11e80bd-1ca7-4f15-8ea2-41fc724dc0f1']},\n",
       "  'aaa274b6-65cc-4cd7-a882-21215f12e0aa': {'id': 'aaa274b6-65cc-4cd7-a882-21215f12e0aa',\n",
       "   'message': {'id': 'aaa274b6-65cc-4cd7-a882-21215f12e0aa',\n",
       "    'author': {'role': 'user', 'name': None, 'metadata': {}},\n",
       "    'create_time': 1691715416.058852,\n",
       "    'update_time': None,\n",
       "    'content': {'content_type': 'text',\n",
       "     'parts': ['In Google Workspace admin my user is firstname.lastname@domain.com and I want to create an alias for firstname@domain.com how do I do this?']},\n",
       "    'status': 'finished_successfully',\n",
       "    'end_turn': None,\n",
       "    'weight': 1.0,\n",
       "    'metadata': {'timestamp_': 'absolute', 'message_type': None},\n",
       "    'recipient': 'all'},\n",
       "   'parent': 'a11e80bd-1ca7-4f15-8ea2-41fc724dc0f1',\n",
       "   'children': ['ff2abd5b-45f2-470b-987c-ec0fc1ddb385']},\n",
       "  'ff2abd5b-45f2-470b-987c-ec0fc1ddb385': {'id': 'ff2abd5b-45f2-470b-987c-ec0fc1ddb385',\n",
       "   'message': {'id': 'ff2abd5b-45f2-470b-987c-ec0fc1ddb385',\n",
       "    'author': {'role': 'assistant', 'name': None, 'metadata': {}},\n",
       "    'create_time': 1691715439.795016,\n",
       "    'update_time': None,\n",
       "    'content': {'content_type': 'text',\n",
       "     'parts': ['In Google Workspace (formerly G Suite), you can add an email alias to a user\\'s account quite easily. Email aliases allow users to have alternate email addresses without the need for a separate mailbox. Here\\'s how you can create an alias:\\n\\n1. **Sign in to Google Admin Console**:\\n   - Go to https://admin.google.com/ and sign in with your admin account.\\n   \\n2. **Navigate to Users**:\\n   - From the Admin console home page, click on \"Users\".\\n\\n3. **Locate and open the user\\'s account**:\\n   - In the Users list, you\\'ll find the user you want to add an alias to. You can search for the user by typing the name in the search box if necessary.\\n   - Click on the user\\'s name to open their account page.\\n\\n4. **Go to the email alias section**:\\n   - Once inside the user\\'s account page, click on the \"User information\" section (or just scroll down until you find the \"Email aliases\" section).\\n\\n5. **Add an alias**:\\n   - In the \"Email aliases\" section, you should see the user\\'s primary email address. There will be an option to \"Add another\".\\n   - Click on \"Add another\" and type the desired alias, in your case: `firstname@domain.com`.\\n   \\n6. **Save**:\\n   - Once you\\'ve added the alias, don\\'t forget to click the \"SAVE\" button at the bottom right corner of the page to apply the changes.\\n\\nAfter adding the alias, any emails sent to `firstname@domain.com` will be delivered to `firstname.lastname@domain.com`. The user can also send emails from the alias address by setting it up in their Gmail settings.\\n\\nNote: Keep in mind that Google Workspace may have seen updates or changes since my last training data in September 2021, so always consult Google\\'s official documentation or support channels for the most accurate and up-to-date information.']},\n",
       "    'status': 'finished_successfully',\n",
       "    'end_turn': True,\n",
       "    'weight': 1.0,\n",
       "    'metadata': {'finish_details': {'type': 'stop', 'stop_tokens': [100260]},\n",
       "     'is_complete': True,\n",
       "     'message_type': None,\n",
       "     'model_slug': 'gpt-4',\n",
       "     'parent_id': 'aaa274b6-65cc-4cd7-a882-21215f12e0aa',\n",
       "     'timestamp_': 'absolute'},\n",
       "    'recipient': 'all'},\n",
       "   'parent': 'aaa274b6-65cc-4cd7-a882-21215f12e0aa',\n",
       "   'children': ['aaa23d16-7551-4ec7-a6af-83845ba96913']},\n",
       "  'aaa23d16-7551-4ec7-a6af-83845ba96913': {'id': 'aaa23d16-7551-4ec7-a6af-83845ba96913',\n",
       "   'message': {'id': 'aaa23d16-7551-4ec7-a6af-83845ba96913',\n",
       "    'author': {'role': 'user', 'name': None, 'metadata': {}},\n",
       "    'create_time': 1691715652.565031,\n",
       "    'update_time': None,\n",
       "    'content': {'content_type': 'text',\n",
       "     'parts': ['In Godaddy how do I transfer a domain I purchased to another Godaddy account?']},\n",
       "    'status': 'finished_successfully',\n",
       "    'end_turn': None,\n",
       "    'weight': 1.0,\n",
       "    'metadata': {'timestamp_': 'absolute', 'message_type': None},\n",
       "    'recipient': 'all'},\n",
       "   'parent': 'ff2abd5b-45f2-470b-987c-ec0fc1ddb385',\n",
       "   'children': ['25ddb589-bd49-4b58-9f24-3511b53954e8']},\n",
       "  '25ddb589-bd49-4b58-9f24-3511b53954e8': {'id': '25ddb589-bd49-4b58-9f24-3511b53954e8',\n",
       "   'message': {'id': '25ddb589-bd49-4b58-9f24-3511b53954e8',\n",
       "    'author': {'role': 'assistant', 'name': None, 'metadata': {}},\n",
       "    'create_time': 1691715685.052922,\n",
       "    'update_time': None,\n",
       "    'content': {'content_type': 'text',\n",
       "     'parts': ['Transferring a domain from one GoDaddy account to another is often referred to as an \"Account Change\" or \"Account Transfer\" within GoDaddy\\'s system. Here\\'s how you can accomplish that:\\n\\n1. **Login to your GoDaddy account**:\\n   - Visit the GoDaddy website and sign in to the account that currently holds the domain.\\n\\n2. **Go to your domains list**:\\n   - Navigate to your list of domains by clicking on \"My Products\" or directly heading to the \"Domains\" section.\\n\\n3. **Select the domain**:\\n   - Find and click on the domain name you want to transfer to another GoDaddy account.\\n\\n4. **Initiate the account change**:\\n   - On the domain\\'s management page, find the \"More settings\" or similar dropdown menu (the exact wording might vary).\\n   - Click on “Begin account change” or \"Start Account Change\" (or a similar option).\\n\\n5. **Enter the recipient\\'s details**:\\n   - You\\'ll be prompted to enter details about the recipient\\'s account. This usually includes:\\n     - Recipient\\'s email address\\n     - Recipient’s customer number or login name (this is optional but can help in speeding up the process)\\n   - Select “Use details from recipient’s existing GoDaddy account” for the contact information. This ensures that the domain inherits the details from the recipient\\'s existing GoDaddy account.\\n\\n6. **Complete the account change process**:\\n   - Follow any additional prompts to confirm and complete the account change process.\\n\\n7. **Recipient’s action**:\\n   - The recipient will receive an email notification from GoDaddy with instructions to accept the domain. They\\'ll need to follow the provided link and instructions to finalize the transfer into their GoDaddy account.\\n\\nRemember, transferring a domain within GoDaddy accounts is different from transferring a domain to a different registrar. The process mentioned above is for moving a domain between two GoDaddy accounts.\\n\\nAlso, keep in mind that GoDaddy\\'s user interface and procedures can change over time. It\\'s a good idea to refer to their official support documentation or contact GoDaddy\\'s support directly if you have any questions or if the process looks different from what\\'s described here.']},\n",
       "    'status': 'finished_successfully',\n",
       "    'end_turn': True,\n",
       "    'weight': 1.0,\n",
       "    'metadata': {'finish_details': {'type': 'stop', 'stop_tokens': [100260]},\n",
       "     'is_complete': True,\n",
       "     'message_type': None,\n",
       "     'model_slug': 'gpt-4',\n",
       "     'parent_id': 'aaa23d16-7551-4ec7-a6af-83845ba96913',\n",
       "     'timestamp_': 'absolute'},\n",
       "    'recipient': 'all'},\n",
       "   'parent': 'aaa23d16-7551-4ec7-a6af-83845ba96913',\n",
       "   'children': []}},\n",
       " 'moderation_results': [],\n",
       " 'current_node': '25ddb589-bd49-4b58-9f24-3511b53954e8',\n",
       " 'plugin_ids': None,\n",
       " 'id': '7d313949-77f9-4361-9c36-52d3c7729afd'}"
      ]
     },
     "execution_count": 7,
     "metadata": {},
     "output_type": "execute_result"
    }
   ],
   "source": [
    "data[0]"
   ]
  },
  {
   "cell_type": "code",
   "execution_count": 8,
   "id": "1601d939-62e0-4127-8cb4-fbd5afefa8f7",
   "metadata": {},
   "outputs": [
    {
     "data": {
      "text/plain": [
       "{'a11e80bd-1ca7-4f15-8ea2-41fc724dc0f1': {'id': 'a11e80bd-1ca7-4f15-8ea2-41fc724dc0f1',\n",
       "  'message': {'id': 'a11e80bd-1ca7-4f15-8ea2-41fc724dc0f1',\n",
       "   'author': {'role': 'system', 'name': None, 'metadata': {}},\n",
       "   'create_time': 1691715416.047749,\n",
       "   'update_time': None,\n",
       "   'content': {'content_type': 'text', 'parts': ['']},\n",
       "   'status': 'finished_successfully',\n",
       "   'end_turn': True,\n",
       "   'weight': 1.0,\n",
       "   'metadata': {},\n",
       "   'recipient': 'all'},\n",
       "  'parent': 'aaa1c691-daa0-4ad9-ac7c-119c6e27b7cb',\n",
       "  'children': ['aaa274b6-65cc-4cd7-a882-21215f12e0aa']},\n",
       " 'aaa1c691-daa0-4ad9-ac7c-119c6e27b7cb': {'id': 'aaa1c691-daa0-4ad9-ac7c-119c6e27b7cb',\n",
       "  'message': None,\n",
       "  'parent': None,\n",
       "  'children': ['a11e80bd-1ca7-4f15-8ea2-41fc724dc0f1']},\n",
       " 'aaa274b6-65cc-4cd7-a882-21215f12e0aa': {'id': 'aaa274b6-65cc-4cd7-a882-21215f12e0aa',\n",
       "  'message': {'id': 'aaa274b6-65cc-4cd7-a882-21215f12e0aa',\n",
       "   'author': {'role': 'user', 'name': None, 'metadata': {}},\n",
       "   'create_time': 1691715416.058852,\n",
       "   'update_time': None,\n",
       "   'content': {'content_type': 'text',\n",
       "    'parts': ['In Google Workspace admin my user is firstname.lastname@domain.com and I want to create an alias for firstname@domain.com how do I do this?']},\n",
       "   'status': 'finished_successfully',\n",
       "   'end_turn': None,\n",
       "   'weight': 1.0,\n",
       "   'metadata': {'timestamp_': 'absolute', 'message_type': None},\n",
       "   'recipient': 'all'},\n",
       "  'parent': 'a11e80bd-1ca7-4f15-8ea2-41fc724dc0f1',\n",
       "  'children': ['ff2abd5b-45f2-470b-987c-ec0fc1ddb385']},\n",
       " 'ff2abd5b-45f2-470b-987c-ec0fc1ddb385': {'id': 'ff2abd5b-45f2-470b-987c-ec0fc1ddb385',\n",
       "  'message': {'id': 'ff2abd5b-45f2-470b-987c-ec0fc1ddb385',\n",
       "   'author': {'role': 'assistant', 'name': None, 'metadata': {}},\n",
       "   'create_time': 1691715439.795016,\n",
       "   'update_time': None,\n",
       "   'content': {'content_type': 'text',\n",
       "    'parts': ['In Google Workspace (formerly G Suite), you can add an email alias to a user\\'s account quite easily. Email aliases allow users to have alternate email addresses without the need for a separate mailbox. Here\\'s how you can create an alias:\\n\\n1. **Sign in to Google Admin Console**:\\n   - Go to https://admin.google.com/ and sign in with your admin account.\\n   \\n2. **Navigate to Users**:\\n   - From the Admin console home page, click on \"Users\".\\n\\n3. **Locate and open the user\\'s account**:\\n   - In the Users list, you\\'ll find the user you want to add an alias to. You can search for the user by typing the name in the search box if necessary.\\n   - Click on the user\\'s name to open their account page.\\n\\n4. **Go to the email alias section**:\\n   - Once inside the user\\'s account page, click on the \"User information\" section (or just scroll down until you find the \"Email aliases\" section).\\n\\n5. **Add an alias**:\\n   - In the \"Email aliases\" section, you should see the user\\'s primary email address. There will be an option to \"Add another\".\\n   - Click on \"Add another\" and type the desired alias, in your case: `firstname@domain.com`.\\n   \\n6. **Save**:\\n   - Once you\\'ve added the alias, don\\'t forget to click the \"SAVE\" button at the bottom right corner of the page to apply the changes.\\n\\nAfter adding the alias, any emails sent to `firstname@domain.com` will be delivered to `firstname.lastname@domain.com`. The user can also send emails from the alias address by setting it up in their Gmail settings.\\n\\nNote: Keep in mind that Google Workspace may have seen updates or changes since my last training data in September 2021, so always consult Google\\'s official documentation or support channels for the most accurate and up-to-date information.']},\n",
       "   'status': 'finished_successfully',\n",
       "   'end_turn': True,\n",
       "   'weight': 1.0,\n",
       "   'metadata': {'finish_details': {'type': 'stop', 'stop_tokens': [100260]},\n",
       "    'is_complete': True,\n",
       "    'message_type': None,\n",
       "    'model_slug': 'gpt-4',\n",
       "    'parent_id': 'aaa274b6-65cc-4cd7-a882-21215f12e0aa',\n",
       "    'timestamp_': 'absolute'},\n",
       "   'recipient': 'all'},\n",
       "  'parent': 'aaa274b6-65cc-4cd7-a882-21215f12e0aa',\n",
       "  'children': ['aaa23d16-7551-4ec7-a6af-83845ba96913']},\n",
       " 'aaa23d16-7551-4ec7-a6af-83845ba96913': {'id': 'aaa23d16-7551-4ec7-a6af-83845ba96913',\n",
       "  'message': {'id': 'aaa23d16-7551-4ec7-a6af-83845ba96913',\n",
       "   'author': {'role': 'user', 'name': None, 'metadata': {}},\n",
       "   'create_time': 1691715652.565031,\n",
       "   'update_time': None,\n",
       "   'content': {'content_type': 'text',\n",
       "    'parts': ['In Godaddy how do I transfer a domain I purchased to another Godaddy account?']},\n",
       "   'status': 'finished_successfully',\n",
       "   'end_turn': None,\n",
       "   'weight': 1.0,\n",
       "   'metadata': {'timestamp_': 'absolute', 'message_type': None},\n",
       "   'recipient': 'all'},\n",
       "  'parent': 'ff2abd5b-45f2-470b-987c-ec0fc1ddb385',\n",
       "  'children': ['25ddb589-bd49-4b58-9f24-3511b53954e8']},\n",
       " '25ddb589-bd49-4b58-9f24-3511b53954e8': {'id': '25ddb589-bd49-4b58-9f24-3511b53954e8',\n",
       "  'message': {'id': '25ddb589-bd49-4b58-9f24-3511b53954e8',\n",
       "   'author': {'role': 'assistant', 'name': None, 'metadata': {}},\n",
       "   'create_time': 1691715685.052922,\n",
       "   'update_time': None,\n",
       "   'content': {'content_type': 'text',\n",
       "    'parts': ['Transferring a domain from one GoDaddy account to another is often referred to as an \"Account Change\" or \"Account Transfer\" within GoDaddy\\'s system. Here\\'s how you can accomplish that:\\n\\n1. **Login to your GoDaddy account**:\\n   - Visit the GoDaddy website and sign in to the account that currently holds the domain.\\n\\n2. **Go to your domains list**:\\n   - Navigate to your list of domains by clicking on \"My Products\" or directly heading to the \"Domains\" section.\\n\\n3. **Select the domain**:\\n   - Find and click on the domain name you want to transfer to another GoDaddy account.\\n\\n4. **Initiate the account change**:\\n   - On the domain\\'s management page, find the \"More settings\" or similar dropdown menu (the exact wording might vary).\\n   - Click on “Begin account change” or \"Start Account Change\" (or a similar option).\\n\\n5. **Enter the recipient\\'s details**:\\n   - You\\'ll be prompted to enter details about the recipient\\'s account. This usually includes:\\n     - Recipient\\'s email address\\n     - Recipient’s customer number or login name (this is optional but can help in speeding up the process)\\n   - Select “Use details from recipient’s existing GoDaddy account” for the contact information. This ensures that the domain inherits the details from the recipient\\'s existing GoDaddy account.\\n\\n6. **Complete the account change process**:\\n   - Follow any additional prompts to confirm and complete the account change process.\\n\\n7. **Recipient’s action**:\\n   - The recipient will receive an email notification from GoDaddy with instructions to accept the domain. They\\'ll need to follow the provided link and instructions to finalize the transfer into their GoDaddy account.\\n\\nRemember, transferring a domain within GoDaddy accounts is different from transferring a domain to a different registrar. The process mentioned above is for moving a domain between two GoDaddy accounts.\\n\\nAlso, keep in mind that GoDaddy\\'s user interface and procedures can change over time. It\\'s a good idea to refer to their official support documentation or contact GoDaddy\\'s support directly if you have any questions or if the process looks different from what\\'s described here.']},\n",
       "   'status': 'finished_successfully',\n",
       "   'end_turn': True,\n",
       "   'weight': 1.0,\n",
       "   'metadata': {'finish_details': {'type': 'stop', 'stop_tokens': [100260]},\n",
       "    'is_complete': True,\n",
       "    'message_type': None,\n",
       "    'model_slug': 'gpt-4',\n",
       "    'parent_id': 'aaa23d16-7551-4ec7-a6af-83845ba96913',\n",
       "    'timestamp_': 'absolute'},\n",
       "   'recipient': 'all'},\n",
       "  'parent': 'aaa23d16-7551-4ec7-a6af-83845ba96913',\n",
       "  'children': []}}"
      ]
     },
     "execution_count": 8,
     "metadata": {},
     "output_type": "execute_result"
    }
   ],
   "source": [
    "data[0]['mapping']"
   ]
  },
  {
   "cell_type": "code",
   "execution_count": 9,
   "id": "4dd0f6b2-80d3-4272-a58f-44881f508149",
   "metadata": {},
   "outputs": [
    {
     "data": {
      "text/plain": [
       "6"
      ]
     },
     "execution_count": 9,
     "metadata": {},
     "output_type": "execute_result"
    }
   ],
   "source": [
    "len(data[0]['mapping'])"
   ]
  },
  {
   "cell_type": "code",
   "execution_count": 10,
   "id": "8eea92f0-67db-412a-8e9d-00a4064f96f5",
   "metadata": {},
   "outputs": [
    {
     "data": {
      "text/plain": [
       "{'id': 'a11e80bd-1ca7-4f15-8ea2-41fc724dc0f1',\n",
       " 'message': {'id': 'a11e80bd-1ca7-4f15-8ea2-41fc724dc0f1',\n",
       "  'author': {'role': 'system', 'name': None, 'metadata': {}},\n",
       "  'create_time': 1691715416.047749,\n",
       "  'update_time': None,\n",
       "  'content': {'content_type': 'text', 'parts': ['']},\n",
       "  'status': 'finished_successfully',\n",
       "  'end_turn': True,\n",
       "  'weight': 1.0,\n",
       "  'metadata': {},\n",
       "  'recipient': 'all'},\n",
       " 'parent': 'aaa1c691-daa0-4ad9-ac7c-119c6e27b7cb',\n",
       " 'children': ['aaa274b6-65cc-4cd7-a882-21215f12e0aa']}"
      ]
     },
     "execution_count": 10,
     "metadata": {},
     "output_type": "execute_result"
    }
   ],
   "source": [
    "data[0]['mapping']['a11e80bd-1ca7-4f15-8ea2-41fc724dc0f1']"
   ]
  },
  {
   "cell_type": "code",
   "execution_count": 11,
   "id": "b098d273-c66e-44c0-bbc2-868b0d88c558",
   "metadata": {},
   "outputs": [
    {
     "data": {
      "text/plain": [
       "{'id': 'aaa1c691-daa0-4ad9-ac7c-119c6e27b7cb',\n",
       " 'message': None,\n",
       " 'parent': None,\n",
       " 'children': ['a11e80bd-1ca7-4f15-8ea2-41fc724dc0f1']}"
      ]
     },
     "execution_count": 11,
     "metadata": {},
     "output_type": "execute_result"
    }
   ],
   "source": [
    "data[0]['mapping']['aaa1c691-daa0-4ad9-ac7c-119c6e27b7cb']"
   ]
  },
  {
   "cell_type": "code",
   "execution_count": 12,
   "id": "745076a4-b9e6-4317-aaeb-56319590b4cd",
   "metadata": {},
   "outputs": [
    {
     "data": {
      "text/plain": [
       "{'id': 'aaa274b6-65cc-4cd7-a882-21215f12e0aa',\n",
       " 'message': {'id': 'aaa274b6-65cc-4cd7-a882-21215f12e0aa',\n",
       "  'author': {'role': 'user', 'name': None, 'metadata': {}},\n",
       "  'create_time': 1691715416.058852,\n",
       "  'update_time': None,\n",
       "  'content': {'content_type': 'text',\n",
       "   'parts': ['In Google Workspace admin my user is firstname.lastname@domain.com and I want to create an alias for firstname@domain.com how do I do this?']},\n",
       "  'status': 'finished_successfully',\n",
       "  'end_turn': None,\n",
       "  'weight': 1.0,\n",
       "  'metadata': {'timestamp_': 'absolute', 'message_type': None},\n",
       "  'recipient': 'all'},\n",
       " 'parent': 'a11e80bd-1ca7-4f15-8ea2-41fc724dc0f1',\n",
       " 'children': ['ff2abd5b-45f2-470b-987c-ec0fc1ddb385']}"
      ]
     },
     "execution_count": 12,
     "metadata": {},
     "output_type": "execute_result"
    }
   ],
   "source": [
    "data[0]['mapping']['aaa274b6-65cc-4cd7-a882-21215f12e0aa']"
   ]
  },
  {
   "cell_type": "code",
   "execution_count": 13,
   "id": "852c21eb-efb7-4e0b-9a20-3d46b7d32eb2",
   "metadata": {},
   "outputs": [
    {
     "data": {
      "text/plain": [
       "{'id': 'ff2abd5b-45f2-470b-987c-ec0fc1ddb385',\n",
       " 'message': {'id': 'ff2abd5b-45f2-470b-987c-ec0fc1ddb385',\n",
       "  'author': {'role': 'assistant', 'name': None, 'metadata': {}},\n",
       "  'create_time': 1691715439.795016,\n",
       "  'update_time': None,\n",
       "  'content': {'content_type': 'text',\n",
       "   'parts': ['In Google Workspace (formerly G Suite), you can add an email alias to a user\\'s account quite easily. Email aliases allow users to have alternate email addresses without the need for a separate mailbox. Here\\'s how you can create an alias:\\n\\n1. **Sign in to Google Admin Console**:\\n   - Go to https://admin.google.com/ and sign in with your admin account.\\n   \\n2. **Navigate to Users**:\\n   - From the Admin console home page, click on \"Users\".\\n\\n3. **Locate and open the user\\'s account**:\\n   - In the Users list, you\\'ll find the user you want to add an alias to. You can search for the user by typing the name in the search box if necessary.\\n   - Click on the user\\'s name to open their account page.\\n\\n4. **Go to the email alias section**:\\n   - Once inside the user\\'s account page, click on the \"User information\" section (or just scroll down until you find the \"Email aliases\" section).\\n\\n5. **Add an alias**:\\n   - In the \"Email aliases\" section, you should see the user\\'s primary email address. There will be an option to \"Add another\".\\n   - Click on \"Add another\" and type the desired alias, in your case: `firstname@domain.com`.\\n   \\n6. **Save**:\\n   - Once you\\'ve added the alias, don\\'t forget to click the \"SAVE\" button at the bottom right corner of the page to apply the changes.\\n\\nAfter adding the alias, any emails sent to `firstname@domain.com` will be delivered to `firstname.lastname@domain.com`. The user can also send emails from the alias address by setting it up in their Gmail settings.\\n\\nNote: Keep in mind that Google Workspace may have seen updates or changes since my last training data in September 2021, so always consult Google\\'s official documentation or support channels for the most accurate and up-to-date information.']},\n",
       "  'status': 'finished_successfully',\n",
       "  'end_turn': True,\n",
       "  'weight': 1.0,\n",
       "  'metadata': {'finish_details': {'type': 'stop', 'stop_tokens': [100260]},\n",
       "   'is_complete': True,\n",
       "   'message_type': None,\n",
       "   'model_slug': 'gpt-4',\n",
       "   'parent_id': 'aaa274b6-65cc-4cd7-a882-21215f12e0aa',\n",
       "   'timestamp_': 'absolute'},\n",
       "  'recipient': 'all'},\n",
       " 'parent': 'aaa274b6-65cc-4cd7-a882-21215f12e0aa',\n",
       " 'children': ['aaa23d16-7551-4ec7-a6af-83845ba96913']}"
      ]
     },
     "execution_count": 13,
     "metadata": {},
     "output_type": "execute_result"
    }
   ],
   "source": [
    "data[0]['mapping']['ff2abd5b-45f2-470b-987c-ec0fc1ddb385']"
   ]
  },
  {
   "cell_type": "code",
   "execution_count": 14,
   "id": "307b6be4-3052-4770-b4db-a87ef0b3b961",
   "metadata": {},
   "outputs": [
    {
     "name": "stdout",
     "output_type": "stream",
     "text": [
      "{'25ddb589-bd49-4b58-9f24-3511b53954e8', 'author', 'parts', 'end_turn', 'content_type', 'timestamp_', 'finish_details', 'status', 'metadata', 'plugin_ids', 'stop_tokens', 'children', 'aaa1c691-daa0-4ad9-ac7c-119c6e27b7cb', 'id', 'name', 'message_type', 'role', 'parent', 'aaa274b6-65cc-4cd7-a882-21215f12e0aa', 'aaa23d16-7551-4ec7-a6af-83845ba96913', 'message', 'current_node', 'create_time', 'title', 'mapping', 'model_slug', 'type', 'ff2abd5b-45f2-470b-987c-ec0fc1ddb385', 'parent_id', 'recipient', 'is_complete', 'moderation_results', 'weight', 'a11e80bd-1ca7-4f15-8ea2-41fc724dc0f1', 'content', 'update_time'}\n"
     ]
    }
   ],
   "source": [
    "def extract_keys(obj, keys_set=None):\n",
    "    if keys_set is None:\n",
    "        keys_set = set()\n",
    "\n",
    "    if isinstance(obj, dict):\n",
    "        for key, value in obj.items():\n",
    "            keys_set.add(key)\n",
    "            if isinstance(value, (dict, list)):\n",
    "                extract_keys(value, keys_set)\n",
    "\n",
    "    if isinstance(obj, list):\n",
    "        for item in obj:\n",
    "            extract_keys(item, keys_set)\n",
    "\n",
    "    return keys_set\n",
    "\n",
    "keys = extract_keys(data[0])\n",
    "print(keys)"
   ]
  },
  {
   "cell_type": "code",
   "execution_count": 15,
   "id": "167c7e29-73bc-46ac-9670-e8d08487316a",
   "metadata": {},
   "outputs": [
    {
     "data": {
      "text/plain": [
       "{'title': 'Create Alias for User',\n",
       " 'create_time': 1691715416.058288,\n",
       " 'update_time': 1691715685.0,\n",
       " 'mapping': {'a11e80bd-1ca7-4f15-8ea2-41fc724dc0f1': {'id': 'a11e80bd-1ca7-4f15-8ea2-41fc724dc0f1',\n",
       "   'message': {'id': 'a11e80bd-1ca7-4f15-8ea2-41fc724dc0f1',\n",
       "    'author': {'role': 'system', 'name': None, 'metadata': {}},\n",
       "    'create_time': 1691715416.047749,\n",
       "    'update_time': None,\n",
       "    'content': {'content_type': 'text', 'parts': ['']},\n",
       "    'status': 'finished_successfully',\n",
       "    'end_turn': True,\n",
       "    'weight': 1.0,\n",
       "    'metadata': {},\n",
       "    'recipient': 'all'},\n",
       "   'parent': 'aaa1c691-daa0-4ad9-ac7c-119c6e27b7cb',\n",
       "   'children': ['aaa274b6-65cc-4cd7-a882-21215f12e0aa']},\n",
       "  'aaa1c691-daa0-4ad9-ac7c-119c6e27b7cb': {'id': 'aaa1c691-daa0-4ad9-ac7c-119c6e27b7cb',\n",
       "   'message': None,\n",
       "   'parent': None,\n",
       "   'children': ['a11e80bd-1ca7-4f15-8ea2-41fc724dc0f1']},\n",
       "  'aaa274b6-65cc-4cd7-a882-21215f12e0aa': {'id': 'aaa274b6-65cc-4cd7-a882-21215f12e0aa',\n",
       "   'message': {'id': 'aaa274b6-65cc-4cd7-a882-21215f12e0aa',\n",
       "    'author': {'role': 'user', 'name': None, 'metadata': {}},\n",
       "    'create_time': 1691715416.058852,\n",
       "    'update_time': None,\n",
       "    'content': {'content_type': 'text',\n",
       "     'parts': ['In Google Workspace admin my user is firstname.lastname@domain.com and I want to create an alias for firstname@domain.com how do I do this?']},\n",
       "    'status': 'finished_successfully',\n",
       "    'end_turn': None,\n",
       "    'weight': 1.0,\n",
       "    'metadata': {'timestamp_': 'absolute', 'message_type': None},\n",
       "    'recipient': 'all'},\n",
       "   'parent': 'a11e80bd-1ca7-4f15-8ea2-41fc724dc0f1',\n",
       "   'children': ['ff2abd5b-45f2-470b-987c-ec0fc1ddb385']},\n",
       "  'ff2abd5b-45f2-470b-987c-ec0fc1ddb385': {'id': 'ff2abd5b-45f2-470b-987c-ec0fc1ddb385',\n",
       "   'message': {'id': 'ff2abd5b-45f2-470b-987c-ec0fc1ddb385',\n",
       "    'author': {'role': 'assistant', 'name': None, 'metadata': {}},\n",
       "    'create_time': 1691715439.795016,\n",
       "    'update_time': None,\n",
       "    'content': {'content_type': 'text',\n",
       "     'parts': ['In Google Workspace (formerly G Suite), you can add an email alias to a user\\'s account quite easily. Email aliases allow users to have alternate email addresses without the need for a separate mailbox. Here\\'s how you can create an alias:\\n\\n1. **Sign in to Google Admin Console**:\\n   - Go to https://admin.google.com/ and sign in with your admin account.\\n   \\n2. **Navigate to Users**:\\n   - From the Admin console home page, click on \"Users\".\\n\\n3. **Locate and open the user\\'s account**:\\n   - In the Users list, you\\'ll find the user you want to add an alias to. You can search for the user by typing the name in the search box if necessary.\\n   - Click on the user\\'s name to open their account page.\\n\\n4. **Go to the email alias section**:\\n   - Once inside the user\\'s account page, click on the \"User information\" section (or just scroll down until you find the \"Email aliases\" section).\\n\\n5. **Add an alias**:\\n   - In the \"Email aliases\" section, you should see the user\\'s primary email address. There will be an option to \"Add another\".\\n   - Click on \"Add another\" and type the desired alias, in your case: `firstname@domain.com`.\\n   \\n6. **Save**:\\n   - Once you\\'ve added the alias, don\\'t forget to click the \"SAVE\" button at the bottom right corner of the page to apply the changes.\\n\\nAfter adding the alias, any emails sent to `firstname@domain.com` will be delivered to `firstname.lastname@domain.com`. The user can also send emails from the alias address by setting it up in their Gmail settings.\\n\\nNote: Keep in mind that Google Workspace may have seen updates or changes since my last training data in September 2021, so always consult Google\\'s official documentation or support channels for the most accurate and up-to-date information.']},\n",
       "    'status': 'finished_successfully',\n",
       "    'end_turn': True,\n",
       "    'weight': 1.0,\n",
       "    'metadata': {'finish_details': {'type': 'stop', 'stop_tokens': [100260]},\n",
       "     'is_complete': True,\n",
       "     'message_type': None,\n",
       "     'model_slug': 'gpt-4',\n",
       "     'parent_id': 'aaa274b6-65cc-4cd7-a882-21215f12e0aa',\n",
       "     'timestamp_': 'absolute'},\n",
       "    'recipient': 'all'},\n",
       "   'parent': 'aaa274b6-65cc-4cd7-a882-21215f12e0aa',\n",
       "   'children': ['aaa23d16-7551-4ec7-a6af-83845ba96913']},\n",
       "  'aaa23d16-7551-4ec7-a6af-83845ba96913': {'id': 'aaa23d16-7551-4ec7-a6af-83845ba96913',\n",
       "   'message': {'id': 'aaa23d16-7551-4ec7-a6af-83845ba96913',\n",
       "    'author': {'role': 'user', 'name': None, 'metadata': {}},\n",
       "    'create_time': 1691715652.565031,\n",
       "    'update_time': None,\n",
       "    'content': {'content_type': 'text',\n",
       "     'parts': ['In Godaddy how do I transfer a domain I purchased to another Godaddy account?']},\n",
       "    'status': 'finished_successfully',\n",
       "    'end_turn': None,\n",
       "    'weight': 1.0,\n",
       "    'metadata': {'timestamp_': 'absolute', 'message_type': None},\n",
       "    'recipient': 'all'},\n",
       "   'parent': 'ff2abd5b-45f2-470b-987c-ec0fc1ddb385',\n",
       "   'children': ['25ddb589-bd49-4b58-9f24-3511b53954e8']},\n",
       "  '25ddb589-bd49-4b58-9f24-3511b53954e8': {'id': '25ddb589-bd49-4b58-9f24-3511b53954e8',\n",
       "   'message': {'id': '25ddb589-bd49-4b58-9f24-3511b53954e8',\n",
       "    'author': {'role': 'assistant', 'name': None, 'metadata': {}},\n",
       "    'create_time': 1691715685.052922,\n",
       "    'update_time': None,\n",
       "    'content': {'content_type': 'text',\n",
       "     'parts': ['Transferring a domain from one GoDaddy account to another is often referred to as an \"Account Change\" or \"Account Transfer\" within GoDaddy\\'s system. Here\\'s how you can accomplish that:\\n\\n1. **Login to your GoDaddy account**:\\n   - Visit the GoDaddy website and sign in to the account that currently holds the domain.\\n\\n2. **Go to your domains list**:\\n   - Navigate to your list of domains by clicking on \"My Products\" or directly heading to the \"Domains\" section.\\n\\n3. **Select the domain**:\\n   - Find and click on the domain name you want to transfer to another GoDaddy account.\\n\\n4. **Initiate the account change**:\\n   - On the domain\\'s management page, find the \"More settings\" or similar dropdown menu (the exact wording might vary).\\n   - Click on “Begin account change” or \"Start Account Change\" (or a similar option).\\n\\n5. **Enter the recipient\\'s details**:\\n   - You\\'ll be prompted to enter details about the recipient\\'s account. This usually includes:\\n     - Recipient\\'s email address\\n     - Recipient’s customer number or login name (this is optional but can help in speeding up the process)\\n   - Select “Use details from recipient’s existing GoDaddy account” for the contact information. This ensures that the domain inherits the details from the recipient\\'s existing GoDaddy account.\\n\\n6. **Complete the account change process**:\\n   - Follow any additional prompts to confirm and complete the account change process.\\n\\n7. **Recipient’s action**:\\n   - The recipient will receive an email notification from GoDaddy with instructions to accept the domain. They\\'ll need to follow the provided link and instructions to finalize the transfer into their GoDaddy account.\\n\\nRemember, transferring a domain within GoDaddy accounts is different from transferring a domain to a different registrar. The process mentioned above is for moving a domain between two GoDaddy accounts.\\n\\nAlso, keep in mind that GoDaddy\\'s user interface and procedures can change over time. It\\'s a good idea to refer to their official support documentation or contact GoDaddy\\'s support directly if you have any questions or if the process looks different from what\\'s described here.']},\n",
       "    'status': 'finished_successfully',\n",
       "    'end_turn': True,\n",
       "    'weight': 1.0,\n",
       "    'metadata': {'finish_details': {'type': 'stop', 'stop_tokens': [100260]},\n",
       "     'is_complete': True,\n",
       "     'message_type': None,\n",
       "     'model_slug': 'gpt-4',\n",
       "     'parent_id': 'aaa23d16-7551-4ec7-a6af-83845ba96913',\n",
       "     'timestamp_': 'absolute'},\n",
       "    'recipient': 'all'},\n",
       "   'parent': 'aaa23d16-7551-4ec7-a6af-83845ba96913',\n",
       "   'children': []}},\n",
       " 'moderation_results': [],\n",
       " 'current_node': '25ddb589-bd49-4b58-9f24-3511b53954e8',\n",
       " 'plugin_ids': None,\n",
       " 'id': '7d313949-77f9-4361-9c36-52d3c7729afd'}"
      ]
     },
     "execution_count": 15,
     "metadata": {},
     "output_type": "execute_result"
    }
   ],
   "source": [
    "data[0]"
   ]
  },
  {
   "cell_type": "code",
   "execution_count": 17,
   "id": "a807171c-c4d9-49b5-ac38-e2d61add8c5d",
   "metadata": {},
   "outputs": [],
   "source": [
    "import json\n",
    "import os\n",
    "\n",
    "def extract_chrome_bookmarks():\n",
    "    # Define the path to the Chrome bookmarks file\n",
    "    # This is the default location on Windows. You may need to adjust this for other operating systems.\n",
    "    path_to_bookmarks = \"/mnt/c/Users/nissa/AppData/Local/Google/Chrome/User Data/Default/Bookmarks\"\n",
    "\n",
    "    # Ensure the file exists\n",
    "    if not os.path.exists(path_to_bookmarks):\n",
    "        print(\"The bookmarks file was not found at the specified location. Ensure Chrome is installed and you have bookmarks saved.\")\n",
    "        return []\n",
    "\n",
    "    # Load the JSON data\n",
    "    with open(path_to_bookmarks, 'r', encoding='utf-8') as file:\n",
    "        bookmarks_data = json.load(file)\n",
    "\n",
    "    # Define a recursive function to extract bookmarks\n",
    "    def extract_from_node(node):\n",
    "        if 'url' in node:\n",
    "            return [(node['name'], node['url'])]\n",
    "        else:\n",
    "            urls = []\n",
    "            if 'children' in node:\n",
    "                for child in node['children']:\n",
    "                    urls.extend(extract_from_node(child))\n",
    "            return urls\n",
    "\n",
    "    # Extract the bookmarks\n",
    "    bookmarks = extract_from_node(bookmarks_data['roots']['bookmark_bar']) \n",
    "    bookmarks += extract_from_node(bookmarks_data['roots']['other'])  # Other bookmarks\n",
    "\n",
    "    return bookmarks\n",
    "\n",
    "bookmarks_list = extract_chrome_bookmarks()\n",
    "# for title, url in bookmarks_list:\n",
    "    # print(f\"{title}: {url}\")\n",
    "\n"
   ]
  },
  {
   "cell_type": "code",
   "execution_count": 18,
   "id": "b4f78948-264d-4812-8e08-5c829ffa4039",
   "metadata": {},
   "outputs": [],
   "source": [
    "path_to_bookmarks = \"/mnt/c/Users/nissa/AppData/Local/Google/Chrome/User Data/Default/Bookmarks\""
   ]
  },
  {
   "cell_type": "code",
   "execution_count": 19,
   "id": "ac325222-ba00-43d3-b990-2442895929c3",
   "metadata": {},
   "outputs": [
    {
     "data": {
      "text/plain": [
       "'/mnt/c/Users/nissa/AppData/Local/Google/Chrome/User Data/Default/Bookmarks'"
      ]
     },
     "execution_count": 19,
     "metadata": {},
     "output_type": "execute_result"
    }
   ],
   "source": [
    "path_to_bookmarks"
   ]
  },
  {
   "cell_type": "code",
   "execution_count": null,
   "id": "1b1fa65a-a2e3-437e-a615-5af9d082c70d",
   "metadata": {},
   "outputs": [],
   "source": []
  }
 ],
 "metadata": {
  "kernelspec": {
   "display_name": "Python 3 (ipykernel)",
   "language": "python",
   "name": "python3"
  },
  "language_info": {
   "codemirror_mode": {
    "name": "ipython",
    "version": 3
   },
   "file_extension": ".py",
   "mimetype": "text/x-python",
   "name": "python",
   "nbconvert_exporter": "python",
   "pygments_lexer": "ipython3",
   "version": "3.10.12"
  }
 },
 "nbformat": 4,
 "nbformat_minor": 5
}
